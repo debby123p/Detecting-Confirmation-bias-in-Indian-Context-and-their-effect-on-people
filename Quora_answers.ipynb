{
  "nbformat": 4,
  "nbformat_minor": 0,
  "metadata": {
    "colab": {
      "provenance": []
    },
    "kernelspec": {
      "name": "python3",
      "display_name": "Python 3"
    },
    "language_info": {
      "name": "python"
    }
  },
  "cells": [
    {
      "cell_type": "markdown",
      "source": [],
      "metadata": {
        "id": "e0Dkh19MBWWt"
      }
    },
    {
      "cell_type": "code",
      "source": [
        "!pip install selenium\n",
        "!apt-get update\n",
        "!apt-get install -y chromium-chromedriver\n"
      ],
      "metadata": {
        "colab": {
          "base_uri": "https://localhost:8080/"
        },
        "id": "DZGNVrtMD-3l",
        "outputId": "28a86bb9-a6ec-424e-a8be-7230de5bf74a"
      },
      "execution_count": 6,
      "outputs": [
        {
          "output_type": "stream",
          "name": "stdout",
          "text": [
            "Collecting selenium\n",
            "  Downloading selenium-4.28.1-py3-none-any.whl.metadata (7.1 kB)\n",
            "Requirement already satisfied: urllib3<3,>=1.26 in /usr/local/lib/python3.11/dist-packages (from urllib3[socks]<3,>=1.26->selenium) (2.3.0)\n",
            "Collecting trio~=0.17 (from selenium)\n",
            "  Downloading trio-0.28.0-py3-none-any.whl.metadata (8.5 kB)\n",
            "Collecting trio-websocket~=0.9 (from selenium)\n",
            "  Downloading trio_websocket-0.11.1-py3-none-any.whl.metadata (4.7 kB)\n",
            "Requirement already satisfied: certifi>=2021.10.8 in /usr/local/lib/python3.11/dist-packages (from selenium) (2024.12.14)\n",
            "Requirement already satisfied: typing_extensions~=4.9 in /usr/local/lib/python3.11/dist-packages (from selenium) (4.12.2)\n",
            "Requirement already satisfied: websocket-client~=1.8 in /usr/local/lib/python3.11/dist-packages (from selenium) (1.8.0)\n",
            "Requirement already satisfied: attrs>=23.2.0 in /usr/local/lib/python3.11/dist-packages (from trio~=0.17->selenium) (25.1.0)\n",
            "Collecting sortedcontainers (from trio~=0.17->selenium)\n",
            "  Downloading sortedcontainers-2.4.0-py2.py3-none-any.whl.metadata (10 kB)\n",
            "Requirement already satisfied: idna in /usr/local/lib/python3.11/dist-packages (from trio~=0.17->selenium) (3.10)\n",
            "Collecting outcome (from trio~=0.17->selenium)\n",
            "  Downloading outcome-1.3.0.post0-py2.py3-none-any.whl.metadata (2.6 kB)\n",
            "Requirement already satisfied: sniffio>=1.3.0 in /usr/local/lib/python3.11/dist-packages (from trio~=0.17->selenium) (1.3.1)\n",
            "Collecting wsproto>=0.14 (from trio-websocket~=0.9->selenium)\n",
            "  Downloading wsproto-1.2.0-py3-none-any.whl.metadata (5.6 kB)\n",
            "Requirement already satisfied: pysocks!=1.5.7,<2.0,>=1.5.6 in /usr/local/lib/python3.11/dist-packages (from urllib3[socks]<3,>=1.26->selenium) (1.7.1)\n",
            "Requirement already satisfied: h11<1,>=0.9.0 in /usr/local/lib/python3.11/dist-packages (from wsproto>=0.14->trio-websocket~=0.9->selenium) (0.14.0)\n",
            "Downloading selenium-4.28.1-py3-none-any.whl (9.5 MB)\n",
            "\u001b[2K   \u001b[90m━━━━━━━━━━━━━━━━━━━━━━━━━━━━━━━━━━━━━━━━\u001b[0m \u001b[32m9.5/9.5 MB\u001b[0m \u001b[31m75.9 MB/s\u001b[0m eta \u001b[36m0:00:00\u001b[0m\n",
            "\u001b[?25hDownloading trio-0.28.0-py3-none-any.whl (486 kB)\n",
            "\u001b[2K   \u001b[90m━━━━━━━━━━━━━━━━━━━━━━━━━━━━━━━━━━━━━━━━\u001b[0m \u001b[32m486.3/486.3 kB\u001b[0m \u001b[31m30.2 MB/s\u001b[0m eta \u001b[36m0:00:00\u001b[0m\n",
            "\u001b[?25hDownloading trio_websocket-0.11.1-py3-none-any.whl (17 kB)\n",
            "Downloading wsproto-1.2.0-py3-none-any.whl (24 kB)\n",
            "Downloading outcome-1.3.0.post0-py2.py3-none-any.whl (10 kB)\n",
            "Downloading sortedcontainers-2.4.0-py2.py3-none-any.whl (29 kB)\n",
            "Installing collected packages: sortedcontainers, wsproto, outcome, trio, trio-websocket, selenium\n",
            "Successfully installed outcome-1.3.0.post0 selenium-4.28.1 sortedcontainers-2.4.0 trio-0.28.0 trio-websocket-0.11.1 wsproto-1.2.0\n",
            "Get:1 http://security.ubuntu.com/ubuntu jammy-security InRelease [129 kB]\n",
            "Get:2 https://cloud.r-project.org/bin/linux/ubuntu jammy-cran40/ InRelease [3,626 B]\n",
            "Get:3 https://developer.download.nvidia.com/compute/cuda/repos/ubuntu2204/x86_64  InRelease [1,581 B]\n",
            "Hit:4 http://archive.ubuntu.com/ubuntu jammy InRelease\n",
            "Get:5 https://r2u.stat.illinois.edu/ubuntu jammy InRelease [6,555 B]\n",
            "Get:6 http://archive.ubuntu.com/ubuntu jammy-updates InRelease [128 kB]\n",
            "Get:7 http://security.ubuntu.com/ubuntu jammy-security/main amd64 Packages [2,604 kB]\n",
            "Get:8 http://security.ubuntu.com/ubuntu jammy-security/universe amd64 Packages [1,229 kB]\n",
            "Get:9 https://developer.download.nvidia.com/compute/cuda/repos/ubuntu2204/x86_64  Packages [1,306 kB]\n",
            "Hit:10 https://ppa.launchpadcontent.net/deadsnakes/ppa/ubuntu jammy InRelease\n",
            "Get:11 http://archive.ubuntu.com/ubuntu jammy-backports InRelease [127 kB]\n",
            "Get:12 https://ppa.launchpadcontent.net/graphics-drivers/ppa/ubuntu jammy InRelease [24.3 kB]\n",
            "Get:13 https://r2u.stat.illinois.edu/ubuntu jammy/main amd64 Packages [2,650 kB]\n",
            "Hit:14 https://ppa.launchpadcontent.net/ubuntugis/ppa/ubuntu jammy InRelease\n",
            "Get:15 https://r2u.stat.illinois.edu/ubuntu jammy/main all Packages [8,646 kB]\n",
            "Get:16 http://archive.ubuntu.com/ubuntu jammy-updates/universe amd64 Packages [1,521 kB]\n",
            "Get:17 http://archive.ubuntu.com/ubuntu jammy-updates/main amd64 Packages [2,904 kB]\n",
            "Get:18 https://ppa.launchpadcontent.net/graphics-drivers/ppa/ubuntu jammy/main amd64 Packages [57.8 kB]\n",
            "Fetched 21.3 MB in 2s (10.1 MB/s)\n",
            "Reading package lists... Done\n",
            "W: Skipping acquire of configured file 'main/source/Sources' as repository 'https://r2u.stat.illinois.edu/ubuntu jammy InRelease' does not seem to provide it (sources.list entry misspelt?)\n",
            "Reading package lists... Done\n",
            "Building dependency tree... Done\n",
            "Reading state information... Done\n",
            "The following additional packages will be installed:\n",
            "  apparmor chromium-browser libfuse3-3 liblzo2-2 snapd squashfs-tools systemd-hwe-hwdb udev\n",
            "Suggested packages:\n",
            "  apparmor-profiles-extra apparmor-utils fuse3 zenity | kdialog\n",
            "The following NEW packages will be installed:\n",
            "  apparmor chromium-browser chromium-chromedriver libfuse3-3 liblzo2-2 snapd squashfs-tools\n",
            "  systemd-hwe-hwdb udev\n",
            "0 upgraded, 9 newly installed, 0 to remove and 22 not upgraded.\n",
            "Need to get 30.1 MB of archives.\n",
            "After this operation, 123 MB of additional disk space will be used.\n",
            "Get:1 http://archive.ubuntu.com/ubuntu jammy-updates/main amd64 apparmor amd64 3.0.4-2ubuntu2.4 [598 kB]\n",
            "Get:2 http://archive.ubuntu.com/ubuntu jammy/main amd64 liblzo2-2 amd64 2.10-2build3 [53.7 kB]\n",
            "Get:3 http://archive.ubuntu.com/ubuntu jammy/main amd64 squashfs-tools amd64 1:4.5-3build1 [159 kB]\n",
            "Get:4 http://archive.ubuntu.com/ubuntu jammy-updates/main amd64 udev amd64 249.11-0ubuntu3.12 [1,557 kB]\n",
            "Get:5 http://archive.ubuntu.com/ubuntu jammy/main amd64 libfuse3-3 amd64 3.10.5-1build1 [81.2 kB]\n",
            "Get:6 http://archive.ubuntu.com/ubuntu jammy-updates/main amd64 snapd amd64 2.66.1+22.04 [27.6 MB]\n",
            "Get:7 http://archive.ubuntu.com/ubuntu jammy-updates/universe amd64 chromium-browser amd64 1:85.0.4183.83-0ubuntu2.22.04.1 [49.2 kB]\n",
            "Get:8 http://archive.ubuntu.com/ubuntu jammy-updates/universe amd64 chromium-chromedriver amd64 1:85.0.4183.83-0ubuntu2.22.04.1 [2,308 B]\n",
            "Get:9 http://archive.ubuntu.com/ubuntu jammy-updates/main amd64 systemd-hwe-hwdb all 249.11.5 [3,228 B]\n",
            "Fetched 30.1 MB in 1s (20.2 MB/s)\n",
            "Preconfiguring packages ...\n",
            "Selecting previously unselected package apparmor.\n",
            "(Reading database ... 124950 files and directories currently installed.)\n",
            "Preparing to unpack .../0-apparmor_3.0.4-2ubuntu2.4_amd64.deb ...\n",
            "Unpacking apparmor (3.0.4-2ubuntu2.4) ...\n",
            "Selecting previously unselected package liblzo2-2:amd64.\n",
            "Preparing to unpack .../1-liblzo2-2_2.10-2build3_amd64.deb ...\n",
            "Unpacking liblzo2-2:amd64 (2.10-2build3) ...\n",
            "Selecting previously unselected package squashfs-tools.\n",
            "Preparing to unpack .../2-squashfs-tools_1%3a4.5-3build1_amd64.deb ...\n",
            "Unpacking squashfs-tools (1:4.5-3build1) ...\n",
            "Selecting previously unselected package udev.\n",
            "Preparing to unpack .../3-udev_249.11-0ubuntu3.12_amd64.deb ...\n",
            "Unpacking udev (249.11-0ubuntu3.12) ...\n",
            "Selecting previously unselected package libfuse3-3:amd64.\n",
            "Preparing to unpack .../4-libfuse3-3_3.10.5-1build1_amd64.deb ...\n",
            "Unpacking libfuse3-3:amd64 (3.10.5-1build1) ...\n",
            "Selecting previously unselected package snapd.\n",
            "Preparing to unpack .../5-snapd_2.66.1+22.04_amd64.deb ...\n",
            "Unpacking snapd (2.66.1+22.04) ...\n",
            "Setting up apparmor (3.0.4-2ubuntu2.4) ...\n",
            "Created symlink /etc/systemd/system/sysinit.target.wants/apparmor.service → /lib/systemd/system/apparmor.service.\n",
            "Setting up liblzo2-2:amd64 (2.10-2build3) ...\n",
            "Setting up squashfs-tools (1:4.5-3build1) ...\n",
            "Setting up udev (249.11-0ubuntu3.12) ...\n",
            "invoke-rc.d: could not determine current runlevel\n",
            "invoke-rc.d: policy-rc.d denied execution of start.\n",
            "Setting up libfuse3-3:amd64 (3.10.5-1build1) ...\n",
            "Setting up snapd (2.66.1+22.04) ...\n",
            "Created symlink /etc/systemd/system/multi-user.target.wants/snapd.apparmor.service → /lib/systemd/system/snapd.apparmor.service.\n",
            "Created symlink /etc/systemd/system/multi-user.target.wants/snapd.autoimport.service → /lib/systemd/system/snapd.autoimport.service.\n",
            "Created symlink /etc/systemd/system/multi-user.target.wants/snapd.core-fixup.service → /lib/systemd/system/snapd.core-fixup.service.\n",
            "Created symlink /etc/systemd/system/multi-user.target.wants/snapd.recovery-chooser-trigger.service → /lib/systemd/system/snapd.recovery-chooser-trigger.service.\n",
            "Created symlink /etc/systemd/system/multi-user.target.wants/snapd.seeded.service → /lib/systemd/system/snapd.seeded.service.\n",
            "Created symlink /etc/systemd/system/cloud-final.service.wants/snapd.seeded.service → /lib/systemd/system/snapd.seeded.service.\n",
            "Unit /lib/systemd/system/snapd.seeded.service is added as a dependency to a non-existent unit cloud-final.service.\n",
            "Created symlink /etc/systemd/system/multi-user.target.wants/snapd.service → /lib/systemd/system/snapd.service.\n",
            "Created symlink /etc/systemd/system/timers.target.wants/snapd.snap-repair.timer → /lib/systemd/system/snapd.snap-repair.timer.\n",
            "Created symlink /etc/systemd/system/sockets.target.wants/snapd.socket → /lib/systemd/system/snapd.socket.\n",
            "Created symlink /etc/systemd/system/final.target.wants/snapd.system-shutdown.service → /lib/systemd/system/snapd.system-shutdown.service.\n",
            "Selecting previously unselected package chromium-browser.\n",
            "(Reading database ... 125387 files and directories currently installed.)\n",
            "Preparing to unpack .../chromium-browser_1%3a85.0.4183.83-0ubuntu2.22.04.1_amd64.deb ...\n",
            "=> Installing the chromium snap\n",
            "==> Checking connectivity with the snap store\n",
            "===> System doesn't have a working snapd, skipping\n",
            "Unpacking chromium-browser (1:85.0.4183.83-0ubuntu2.22.04.1) ...\n",
            "Selecting previously unselected package chromium-chromedriver.\n",
            "Preparing to unpack .../chromium-chromedriver_1%3a85.0.4183.83-0ubuntu2.22.04.1_amd64.deb ...\n",
            "Unpacking chromium-chromedriver (1:85.0.4183.83-0ubuntu2.22.04.1) ...\n",
            "Selecting previously unselected package systemd-hwe-hwdb.\n",
            "Preparing to unpack .../systemd-hwe-hwdb_249.11.5_all.deb ...\n",
            "Unpacking systemd-hwe-hwdb (249.11.5) ...\n",
            "Setting up systemd-hwe-hwdb (249.11.5) ...\n",
            "Setting up chromium-browser (1:85.0.4183.83-0ubuntu2.22.04.1) ...\n",
            "update-alternatives: using /usr/bin/chromium-browser to provide /usr/bin/x-www-browser (x-www-browser) in auto mode\n",
            "update-alternatives: using /usr/bin/chromium-browser to provide /usr/bin/gnome-www-browser (gnome-www-browser) in auto mode\n",
            "Setting up chromium-chromedriver (1:85.0.4183.83-0ubuntu2.22.04.1) ...\n",
            "Processing triggers for udev (249.11-0ubuntu3.12) ...\n",
            "Processing triggers for mailcap (3.70+nmu1ubuntu1) ...\n",
            "Processing triggers for hicolor-icon-theme (0.17-2) ...\n",
            "Processing triggers for libc-bin (2.35-0ubuntu3.8) ...\n",
            "/sbin/ldconfig.real: /usr/local/lib/libumf.so.0 is not a symbolic link\n",
            "\n",
            "/sbin/ldconfig.real: /usr/local/lib/libtcm.so.1 is not a symbolic link\n",
            "\n",
            "/sbin/ldconfig.real: /usr/local/lib/libur_adapter_opencl.so.0 is not a symbolic link\n",
            "\n",
            "/sbin/ldconfig.real: /usr/local/lib/libtbbbind_2_0.so.3 is not a symbolic link\n",
            "\n",
            "/sbin/ldconfig.real: /usr/local/lib/libtbbbind_2_5.so.3 is not a symbolic link\n",
            "\n",
            "/sbin/ldconfig.real: /usr/local/lib/libtbbmalloc.so.2 is not a symbolic link\n",
            "\n",
            "/sbin/ldconfig.real: /usr/local/lib/libtbbbind.so.3 is not a symbolic link\n",
            "\n",
            "/sbin/ldconfig.real: /usr/local/lib/libur_adapter_level_zero.so.0 is not a symbolic link\n",
            "\n",
            "/sbin/ldconfig.real: /usr/local/lib/libtcm_debug.so.1 is not a symbolic link\n",
            "\n",
            "/sbin/ldconfig.real: /usr/local/lib/libhwloc.so.15 is not a symbolic link\n",
            "\n",
            "/sbin/ldconfig.real: /usr/local/lib/libtbb.so.12 is not a symbolic link\n",
            "\n",
            "/sbin/ldconfig.real: /usr/local/lib/libtbbmalloc_proxy.so.2 is not a symbolic link\n",
            "\n",
            "/sbin/ldconfig.real: /usr/local/lib/libur_loader.so.0 is not a symbolic link\n",
            "\n",
            "Processing triggers for man-db (2.10.2-1) ...\n",
            "Processing triggers for dbus (1.12.20-2ubuntu4.1) ...\n"
          ]
        }
      ]
    },
    {
      "cell_type": "code",
      "source": [
        "import re\n",
        "from selenium import webdriver\n",
        "from selenium.webdriver.chrome.options import Options\n",
        "import time\n",
        "import csv\n",
        "from bs4 import BeautifulSoup\n"
      ],
      "metadata": {
        "id": "aFYsw6dNGHkS"
      },
      "execution_count": 10,
      "outputs": []
    },
    {
      "cell_type": "code",
      "source": [
        "chrome_options = Options()\n",
        "chrome_options.add_argument(\"--headless\")  # Run in headless mode (Colab-compatible)\n",
        "chrome_options.add_argument(\"--no-sandbox\")\n",
        "chrome_options.add_argument(\"--disable-dev-shm-usage\")\n",
        "\n",
        "driver = webdriver.Chrome(options=chrome_options)"
      ],
      "metadata": {
        "id": "8Y5wVXBpGLNv"
      },
      "execution_count": 12,
      "outputs": []
    },
    {
      "cell_type": "markdown",
      "source": [
        "# **India**"
      ],
      "metadata": {
        "id": "JtauLlEIIFcO"
      }
    },
    {
      "cell_type": "code",
      "source": [
        "# List of Quora questions\n",
        "quora_urls = [\n",
        "    \"https://www.quora.com/What-are-some-Indian-regional-stereotypes\",\n",
        "    \"https://www.quora.com/What-are-the-various-regional-stereotypes-that-exist-within-India\",\n",
        "    \"https://www.quora.com/What-are-the-stereotypes-of-the-various-provinces-of-India\",\n",
        "    \"https://www.quora.com/How-different-are-the-people-from-the-different-states-of-India\",\n",
        "    \"https://www.quora.com/What-do-people-think-about-different-states-of-India\",\n",
        "    \"https://www.quora.com/What-general-notions-do-people-have-about-the-residents-of-each-Indian-state\",\n",
        "    \"https://www.quora.com/What-are-the-attitudes-of-people-from-different-regions-in-India-towards-each-other\",\n",
        "    \"https://www.quora.com/What-are-the-biggest-misconceptions-that-Indians-have-about-India\",\n",
        "    \"https://www.quora.com/What-stereotypes-do-Indians-have-for-each-other\",\n",
        "    \"https://www.quora.com/What-are-some-stereotypes-about-your-state-that-offends-you-the-most\",\n",
        "    \"https://www.quora.com/What-are-some-misconceptions-that-people-have-about-your-State-Union-Territory-in-India\",\n",
        "    \"https://www.quora.com/India-What-are-some-common-stereotypes-about-Indians-that-are-largely-untrue\",\n",
        "    \"https://www.quora.com/What-are-some-stereotypes-about-your-state-community-that-are-largely-untrue-and-you-would-like-to-change\",\n",
        "    \"https://www.quora.com/What-are-the-strangest-and-funniest-misconceptions-about-your-state-in-India\",\n",
        "    \"https://www.quora.com/What-are-some-typical-Indian-stereotypes\",\n",
        "    \"https://www.quora.com/What-should-every-Indian-know-about-your-state-union-territory\",\n",
        "    \"https://www.quora.com/Why-do-Indians-have-stereotypes-about-North-Indian-South-Indian-NE-Indian-Gujarati-Punjabi-Bangali-etc\"\n",
        "]\n",
        "\n",
        "# CSV file to store results\n",
        "csv_filename = \"/content/quora_answers_india.csv\"\n",
        "\n",
        "# Open CSV file and write headers\n",
        "with open(csv_filename, \"w\", newline=\"\", encoding=\"utf-8\") as file:\n",
        "    writer = csv.writer(file)\n",
        "    writer.writerow([\"Question URL\", \"Answer\", \"Upvotes\"])  # Column headers\n",
        "\n",
        "    # Loop through each Quora URL\n",
        "    for url in quora_urls:\n",
        "        driver.get(url)\n",
        "        time.sleep(5)  # Wait for page to load\n",
        "\n",
        "        # Scroll to load more content dynamically\n",
        "        for _ in range(3):\n",
        "            driver.execute_script(\"window.scrollTo(0, document.body.scrollHeight);\")\n",
        "            time.sleep(3)\n",
        "\n",
        "        # Parse the page\n",
        "        soup = BeautifulSoup(driver.page_source, \"html.parser\")\n",
        "\n",
        "        # Extract answers\n",
        "        answers = soup.find_all(\"div\", class_=\"q-text\")  # Class may need updating\n",
        "\n",
        "        # Extract upvotes (Quora may use aria-label or other elements)\n",
        "        upvote_elements = soup.find_all(\"span\", string=re.compile(r\"upvote\", re.IGNORECASE))\n",
        "\n",
        "        upvotes = []\n",
        "        for vote in upvote_elements:\n",
        "            match = re.search(r\"(\\d+)\", vote.get_text())  # Extract numeric value\n",
        "            if match:\n",
        "                upvotes.append(int(match.group(1)))\n",
        "            else:\n",
        "                upvotes.append(0)  # If no upvote is found, default to 0\n",
        "\n",
        "        # Write answers and upvotes to CSV\n",
        "        for i, ans in enumerate(answers[:len(upvotes)]):  # Ensure index alignment\n",
        "            writer.writerow([url, ans.get_text(strip=True), upvotes[i]])\n",
        "\n",
        "print(f\"✅ Answers saved successfully in {csv_filename}!\")\n"
      ],
      "metadata": {
        "colab": {
          "base_uri": "https://localhost:8080/"
        },
        "id": "R9NtUl5iDuHZ",
        "outputId": "3bdde2d0-8593-4e77-a5d9-72514a445700"
      },
      "execution_count": 13,
      "outputs": [
        {
          "output_type": "stream",
          "name": "stdout",
          "text": [
            "✅ Answers saved successfully in /content/quora_answers_india.csv!\n"
          ]
        }
      ]
    },
    {
      "cell_type": "markdown",
      "source": [
        "# **South India vs North India**"
      ],
      "metadata": {
        "id": "fxD0ND9FIIgU"
      }
    },
    {
      "cell_type": "code",
      "source": [
        "# List of Quora questions\n",
        "quora_urls = [\n",
        "\"https://www.quora.com/How-do-North-Indians-view-South-Indians-positives-negatives-stereotypes-etc\",\n",
        "\"https://www.quora.com/Why-are-people-in-India-divided-like-North-Indian-South-Indian-Can%E2%80%99t-they-just-remain-Indian-only\",\n",
        "\"https://www.quora.com/Why-is-there-a-disconnect-between-North-Indian-and-South-Indian-people\",\n",
        "\"https://www.quora.com/What-problems-do-South-Indians-face-in-North-India-Why-are-they-looked-down-upon\",\n",
        "\"https://www.quora.com/Why-is-there-so-much-hatred-in-Tamil-Nadu-for-North-Indians-that-once-they-know-students-are-from-North-India-they-deny-to-give-houses-for-rent\",\n",
        "\"https://www.quora.com/As-a-North-Indian-it-hurts-me-when-South-Indians-say-that-Hindi-is-a-foreign-language-to-them-despite-it-being-the-national-language-of-India-Why-dont-they-accept-that-Hindi-are-their-own-language\",\n",
        "\"https://www.quora.com/What-are-some-common-misconceptions-of-North-Indians-about-South-India-and-its-people\",\n",
        "\"https://www.quora.com/What-are-the-common-misconceptions-about-the-differences-between-North-and-South-Indians-in-terms-of-language-culture-etc\",\n",
        "\"https://www.quora.com/What-are-the-biggest-misconceptions-that-North-Indians-have-about-South-Indians\",\n",
        "\"https://www.quora.com/What-are-some-stereotypes-that-exist-about-North-and-South-Indians\",\n",
        "\"https://www.quora.com/What-are-the-most-common-stereotypes-about-North-Indians-and-South-Indians-Why-do-these-exist\",\n",
        "\"https://www.quora.com/What-is-the-stupidest-thing-you-have-heard-about-south-Indians-south-Indian-culture-from-a-north-Indian\"\n",
        "\n",
        "]\n",
        "\n",
        "# CSV file to store results\n",
        "csv_filename = \"/content/quora_answers_southvsnorth.csv\"\n",
        "\n",
        "# Open CSV file and write headers\n",
        "with open(csv_filename, \"w\", newline=\"\", encoding=\"utf-8\") as file:\n",
        "    writer = csv.writer(file)\n",
        "    writer.writerow([\"Question URL\", \"Answer\", \"Upvotes\"])  # Column headers\n",
        "\n",
        "    # Loop through each Quora URL\n",
        "    for url in quora_urls:\n",
        "        driver.get(url)\n",
        "        time.sleep(5)  # Wait for page to load\n",
        "\n",
        "        # Scroll to load more content dynamically\n",
        "        for _ in range(3):\n",
        "            driver.execute_script(\"window.scrollTo(0, document.body.scrollHeight);\")\n",
        "            time.sleep(3)\n",
        "\n",
        "        # Parse the page\n",
        "        soup = BeautifulSoup(driver.page_source, \"html.parser\")\n",
        "\n",
        "        # Extract answers\n",
        "        answers = soup.find_all(\"div\", class_=\"q-text\")  # Class may need updating\n",
        "\n",
        "        # Extract upvotes (Quora may use aria-label or other elements)\n",
        "        upvote_elements = soup.find_all(\"span\", string=re.compile(r\"upvote\", re.IGNORECASE))\n",
        "\n",
        "        upvotes = []\n",
        "        for vote in upvote_elements:\n",
        "            match = re.search(r\"(\\d+)\", vote.get_text())  # Extract numeric value\n",
        "            if match:\n",
        "                upvotes.append(int(match.group(1)))\n",
        "            else:\n",
        "                upvotes.append(0)  # If no upvote is found, default to 0\n",
        "\n",
        "        # Write answers and upvotes to CSV\n",
        "        for i, ans in enumerate(answers[:len(upvotes)]):  # Ensure index alignment\n",
        "            writer.writerow([url, ans.get_text(strip=True), upvotes[i]])\n",
        "\n",
        "print(f\"✅ Answers saved successfully in {csv_filename}!\")"
      ],
      "metadata": {
        "colab": {
          "base_uri": "https://localhost:8080/"
        },
        "id": "gYAPg09EFbTy",
        "outputId": "82f2f96c-5006-4b10-fd00-431bdc793787"
      },
      "execution_count": 14,
      "outputs": [
        {
          "output_type": "stream",
          "name": "stdout",
          "text": [
            "✅ Answers saved successfully in /content/quora_answers_southvsnorth.csv!\n"
          ]
        }
      ]
    },
    {
      "cell_type": "markdown",
      "source": [
        "# **South India**"
      ],
      "metadata": {
        "id": "ZLZ8ms5SIL0t"
      }
    },
    {
      "cell_type": "code",
      "source": [
        "# List of Quora questions\n",
        "quora_urls = [\n",
        "\"https://www.quora.com/What-are-some-of-the-most-common-stereotypes-about-South-Indians\",\n",
        "\"https://www.quora.com/What-do-Punjabis-think-about-South-Indians-Malayalees-Tamilians-Telugu-Kannadigas\",\n",
        "\"https://www.quora.com/What-are-some-misconceptions-about-South-India-What-are-the-facts\",\n",
        "\"https://www.quora.com/What-are-some-stereotypes-about-South-Indians-that-they-secretly-or-maybe-not-secretly-like-enjoy\",\n",
        "\"https://www.quora.com/What-are-some-misconceptions-about-South-India-What-are-the-facts\",\n",
        "\"https://www.quora.com/What-do-you-think-is-the-biggest-misconception-about-South-Indians-in-general-What-is-your-take-on-this-issue-as-a-proud-South-Indian\"\n",
        "]\n",
        "\n",
        "# CSV file to store results\n",
        "csv_filename = \"/content/quora_answers_south.csv\"\n",
        "\n",
        "# Open CSV file and write headers\n",
        "with open(csv_filename, \"w\", newline=\"\", encoding=\"utf-8\") as file:\n",
        "    writer = csv.writer(file)\n",
        "    writer.writerow([\"Question URL\", \"Answer\", \"Upvotes\"])  # Column headers\n",
        "\n",
        "    # Loop through each Quora URL\n",
        "    for url in quora_urls:\n",
        "        driver.get(url)\n",
        "        time.sleep(5)  # Wait for page to load\n",
        "\n",
        "        # Scroll to load more content dynamically\n",
        "        for _ in range(3):\n",
        "            driver.execute_script(\"window.scrollTo(0, document.body.scrollHeight);\")\n",
        "            time.sleep(3)\n",
        "\n",
        "        # Parse the page\n",
        "        soup = BeautifulSoup(driver.page_source, \"html.parser\")\n",
        "\n",
        "        # Extract answers\n",
        "        answers = soup.find_all(\"div\", class_=\"q-text\")  # Class may need updating\n",
        "\n",
        "        # Extract upvotes (Quora may use aria-label or other elements)\n",
        "        upvote_elements = soup.find_all(\"span\", string=re.compile(r\"upvote\", re.IGNORECASE))\n",
        "\n",
        "        upvotes = []\n",
        "        for vote in upvote_elements:\n",
        "            match = re.search(r\"(\\d+)\", vote.get_text())  # Extract numeric value\n",
        "            if match:\n",
        "                upvotes.append(int(match.group(1)))\n",
        "            else:\n",
        "                upvotes.append(0)  # If no upvote is found, default to 0\n",
        "\n",
        "        # Write answers and upvotes to CSV\n",
        "        for i, ans in enumerate(answers[:len(upvotes)]):  # Ensure index alignment\n",
        "            writer.writerow([url, ans.get_text(strip=True), upvotes[i]])\n",
        "\n",
        "print(f\"✅ Answers saved successfully in {csv_filename}!\")"
      ],
      "metadata": {
        "colab": {
          "base_uri": "https://localhost:8080/"
        },
        "id": "NxokhhvaHK7O",
        "outputId": "679e3ea0-3586-4921-dc61-b2edbf7ce3c4"
      },
      "execution_count": 15,
      "outputs": [
        {
          "output_type": "stream",
          "name": "stdout",
          "text": [
            "✅ Answers saved successfully in /content/quora_answers_south.csv!\n"
          ]
        }
      ]
    },
    {
      "cell_type": "markdown",
      "source": [
        "# **North India**"
      ],
      "metadata": {
        "id": "wBCIDja5ITin"
      }
    },
    {
      "cell_type": "code",
      "source": [
        "# List of Quora questions\n",
        "quora_urls = [\n",
        "\"https://www.quora.com/Why-do-South-Indians-stereotype-North-Indians-as-bad-people\",\n",
        "\"https://www.quora.com/Many-North-Indians-mock-South-Indian-accents-Do-South-Indians-mock-North-Indians-for-their-accents-too-Also-what-are-some-stereotypes-about-North-Indians-famous-among-South-Indians\",\n",
        "\"https://www.quora.com/Why-are-the-big-Hindi-speaking-states-of-Rajasthan-UP-MP-and-Bihar-so-backward\"\n",
        "]\n",
        "\n",
        "# CSV file to store results\n",
        "csv_filename = \"/content/quora_answers_north.csv\"\n",
        "\n",
        "# Open CSV file and write headers\n",
        "with open(csv_filename, \"w\", newline=\"\", encoding=\"utf-8\") as file:\n",
        "    writer = csv.writer(file)\n",
        "    writer.writerow([\"Question URL\", \"Answer\", \"Upvotes\"])  # Column headers\n",
        "\n",
        "    # Loop through each Quora URL\n",
        "    for url in quora_urls:\n",
        "        driver.get(url)\n",
        "        time.sleep(5)  # Wait for page to load\n",
        "\n",
        "        # Scroll to load more content dynamically\n",
        "        for _ in range(3):\n",
        "            driver.execute_script(\"window.scrollTo(0, document.body.scrollHeight);\")\n",
        "            time.sleep(3)\n",
        "\n",
        "        # Parse the page\n",
        "        soup = BeautifulSoup(driver.page_source, \"html.parser\")\n",
        "\n",
        "        # Extract answers\n",
        "        answers = soup.find_all(\"div\", class_=\"q-text\")  # Class may need updating\n",
        "\n",
        "        # Extract upvotes (Quora may use aria-label or other elements)\n",
        "        upvote_elements = soup.find_all(\"span\", string=re.compile(r\"upvote\", re.IGNORECASE))\n",
        "\n",
        "        upvotes = []\n",
        "        for vote in upvote_elements:\n",
        "            match = re.search(r\"(\\d+)\", vote.get_text())  # Extract numeric value\n",
        "            if match:\n",
        "                upvotes.append(int(match.group(1)))\n",
        "            else:\n",
        "                upvotes.append(0)  # If no upvote is found, default to 0\n",
        "\n",
        "        # Write answers and upvotes to CSV\n",
        "        for i, ans in enumerate(answers[:len(upvotes)]):  # Ensure index alignment\n",
        "            writer.writerow([url, ans.get_text(strip=True), upvotes[i]])\n",
        "\n",
        "print(f\"✅ Answers saved successfully in {csv_filename}!\")"
      ],
      "metadata": {
        "colab": {
          "base_uri": "https://localhost:8080/"
        },
        "id": "nPilXKEvHoM0",
        "outputId": "5b3e587e-1a09-4bde-9737-ca2ff56a8ed3"
      },
      "execution_count": 16,
      "outputs": [
        {
          "output_type": "stream",
          "name": "stdout",
          "text": [
            "✅ Answers saved successfully in /content/quora_answers_north.csv!\n"
          ]
        }
      ]
    },
    {
      "cell_type": "markdown",
      "source": [
        "# **Tamil Nadu**"
      ],
      "metadata": {
        "id": "YzAuvFBwIpZz"
      }
    },
    {
      "cell_type": "code",
      "source": [
        "# List of Quora questions\n",
        "quora_urls = [\n",
        "\"https://www.quora.com/What-do-the-people-of-other-states-think-about-Tamil-Nadu\",\n",
        "\"https://www.quora.com/Why-is-there-so-much-hatred-against-Tamils-here\",\n",
        "\"https://www.quora.com/As-a-Tamilain-what-do-you-hate-about-Tamil-Nadu-and-why\",\n",
        "\"https://www.quora.com/What-are-the-misconceptions-about-Tamil-Nadu\",\n",
        "\"https://www.quora.com/What-are-some-common-misconceptions-about-Chennai\",\n",
        "\"https://www.quora.com/What-do-Indians-think-about-Indians-from-Tamil-Nadu\",\n",
        "\"https://www.quora.com/What-are-the-most-common-misconceptions-about-Tamil-Nadu-and-its-people\"\n",
        "\n",
        "]\n",
        "\n",
        "# CSV file to store results\n",
        "csv_filename = \"/content/quora_answers_tamilnadu.csv\"\n",
        "\n",
        "# Open CSV file and write headers\n",
        "with open(csv_filename, \"w\", newline=\"\", encoding=\"utf-8\") as file:\n",
        "    writer = csv.writer(file)\n",
        "    writer.writerow([\"Question URL\", \"Answer\", \"Upvotes\"])  # Column headers\n",
        "\n",
        "    # Loop through each Quora URL\n",
        "    for url in quora_urls:\n",
        "        driver.get(url)\n",
        "        time.sleep(5)  # Wait for page to load\n",
        "\n",
        "        # Scroll to load more content dynamically\n",
        "        for _ in range(3):\n",
        "            driver.execute_script(\"window.scrollTo(0, document.body.scrollHeight);\")\n",
        "            time.sleep(3)\n",
        "\n",
        "        # Parse the page\n",
        "        soup = BeautifulSoup(driver.page_source, \"html.parser\")\n",
        "\n",
        "        # Extract answers\n",
        "        answers = soup.find_all(\"div\", class_=\"q-text\")  # Class may need updating\n",
        "\n",
        "        # Extract upvotes (Quora may use aria-label or other elements)\n",
        "        upvote_elements = soup.find_all(\"span\", string=re.compile(r\"upvote\", re.IGNORECASE))\n",
        "\n",
        "        upvotes = []\n",
        "        for vote in upvote_elements:\n",
        "            match = re.search(r\"(\\d+)\", vote.get_text())  # Extract numeric value\n",
        "            if match:\n",
        "                upvotes.append(int(match.group(1)))\n",
        "            else:\n",
        "                upvotes.append(0)  # If no upvote is found, default to 0\n",
        "\n",
        "        # Write answers and upvotes to CSV\n",
        "        for i, ans in enumerate(answers[:len(upvotes)]):  # Ensure index alignment\n",
        "            writer.writerow([url, ans.get_text(strip=True), upvotes[i]])\n",
        "\n",
        "print(f\"✅ Answers saved successfully in {csv_filename}!\")"
      ],
      "metadata": {
        "colab": {
          "base_uri": "https://localhost:8080/"
        },
        "id": "Gg1BddTEIB8O",
        "outputId": "a2705116-b3dd-4928-d482-9604fc612ce3"
      },
      "execution_count": 17,
      "outputs": [
        {
          "output_type": "stream",
          "name": "stdout",
          "text": [
            "✅ Answers saved successfully in /content/quora_answers_tamilnadu.csv!\n"
          ]
        }
      ]
    },
    {
      "cell_type": "markdown",
      "source": [
        "# **Uttar Pradesh**"
      ],
      "metadata": {
        "id": "et-5LWniIsOE"
      }
    },
    {
      "cell_type": "code",
      "source": [
        "# List of Quora questions\n",
        "quora_urls = [\n",
        "\"https://www.quora.com/What-are-some-common-stereotypes-about-people-from-Uttar-Pradesh\",\n",
        "\"https://www.quora.com/What-are-some-misconceptions-about-people-from-UP\",\n",
        "\"https://www.quora.com/What-are-some-common-stereotypes-about-people-from-Ghaziabad-Western-UP\",\n",
        "\"https://www.quora.com/What-are-some-common-misconceptions-about-Uttar-Pradesh-and-Bihar\",\n",
        "\"https://www.quora.com/unanswered/What-are-the-biggest-misconceptions-people-have-about-Uttar-Pradesh\"\n",
        "]\n",
        "\n",
        "# CSV file to store results\n",
        "csv_filename = \"/content/quora_answers_uttarpradesh.csv\"\n",
        "\n",
        "# Open CSV file and write headers\n",
        "with open(csv_filename, \"w\", newline=\"\", encoding=\"utf-8\") as file:\n",
        "    writer = csv.writer(file)\n",
        "    writer.writerow([\"Question URL\", \"Answer\", \"Upvotes\"])  # Column headers\n",
        "\n",
        "    # Loop through each Quora URL\n",
        "    for url in quora_urls:\n",
        "        driver.get(url)\n",
        "        time.sleep(5)  # Wait for page to load\n",
        "\n",
        "        # Scroll to load more content dynamically\n",
        "        for _ in range(3):\n",
        "            driver.execute_script(\"window.scrollTo(0, document.body.scrollHeight);\")\n",
        "            time.sleep(3)\n",
        "\n",
        "        # Parse the page\n",
        "        soup = BeautifulSoup(driver.page_source, \"html.parser\")\n",
        "\n",
        "        # Extract answers\n",
        "        answers = soup.find_all(\"div\", class_=\"q-text\")  # Class may need updating\n",
        "\n",
        "        # Extract upvotes (Quora may use aria-label or other elements)\n",
        "        upvote_elements = soup.find_all(\"span\", string=re.compile(r\"upvote\", re.IGNORECASE))\n",
        "\n",
        "        upvotes = []\n",
        "        for vote in upvote_elements:\n",
        "            match = re.search(r\"(\\d+)\", vote.get_text())  # Extract numeric value\n",
        "            if match:\n",
        "                upvotes.append(int(match.group(1)))\n",
        "            else:\n",
        "                upvotes.append(0)  # If no upvote is found, default to 0\n",
        "\n",
        "        # Write answers and upvotes to CSV\n",
        "        for i, ans in enumerate(answers[:len(upvotes)]):  # Ensure index alignment\n",
        "            writer.writerow([url, ans.get_text(strip=True), upvotes[i]])\n",
        "\n",
        "print(f\"✅ Answers saved successfully in {csv_filename}!\")"
      ],
      "metadata": {
        "colab": {
          "base_uri": "https://localhost:8080/"
        },
        "id": "w3zMiSELIxFb",
        "outputId": "c29fcb61-faea-4b2d-d855-09a72c87a9ab"
      },
      "execution_count": 19,
      "outputs": [
        {
          "output_type": "stream",
          "name": "stdout",
          "text": [
            "✅ Answers saved successfully in /content/quora_answers_uttarpradesh.csv!\n"
          ]
        }
      ]
    },
    {
      "cell_type": "markdown",
      "source": [
        "# **Gujarat**"
      ],
      "metadata": {
        "id": "6avHJfUMJJ-I"
      }
    },
    {
      "cell_type": "code",
      "source": [
        "# List of Quora questions\n",
        "quora_urls = [\n",
        "\"https://www.quora.com/Gujarat-India-What-are-some-common-stereotypes-about-Gujaratis-that-are-largely-untrue\",\n",
        "\"https://www.quora.com/What-do-other-Indians-think-of-Gujaratis-What-instantly-comes-to-your-mind-when-youre-told-someones-a-Gujarati\",\n",
        "\"https://www.quora.com/Life-What-are-some-things-that-Gujaratis-want-to-tell-to-the-non-Gujarati-people\",\n",
        "\"https://www.quora.com/What-are-the-common-misconceptions-about-Gujarat\",\n",
        "\"https://www.quora.com/What-are-some-funny-misconceptions-about-Gujarat-India\",\n",
        "\"https://www.quora.com/Being-Gujarati-what-are-the-myths-rumers-misconceptions-amongst-other-Indians-about-Gujarat-Gujarat-you-would-like-to-remove-correctly\",\n",
        "\"https://www.quora.com/Why-is-Gujarati-food-so-sweet\"\n",
        "]\n",
        "\n",
        "# CSV file to store results\n",
        "csv_filename = \"/content/quora_answers_gujarat.csv\"\n",
        "\n",
        "# Open CSV file and write headers\n",
        "with open(csv_filename, \"w\", newline=\"\", encoding=\"utf-8\") as file:\n",
        "    writer = csv.writer(file)\n",
        "    writer.writerow([\"Question URL\", \"Answer\", \"Upvotes\"])  # Column headers\n",
        "\n",
        "    # Loop through each Quora URL\n",
        "    for url in quora_urls:\n",
        "        driver.get(url)\n",
        "        time.sleep(5)  # Wait for page to load\n",
        "\n",
        "        # Scroll to load more content dynamically\n",
        "        for _ in range(3):\n",
        "            driver.execute_script(\"window.scrollTo(0, document.body.scrollHeight);\")\n",
        "            time.sleep(3)\n",
        "\n",
        "        # Parse the page\n",
        "        soup = BeautifulSoup(driver.page_source, \"html.parser\")\n",
        "\n",
        "        # Extract answers\n",
        "        answers = soup.find_all(\"div\", class_=\"q-text\")  # Class may need updating\n",
        "\n",
        "        # Extract upvotes (Quora may use aria-label or other elements)\n",
        "        upvote_elements = soup.find_all(\"span\", string=re.compile(r\"upvote\", re.IGNORECASE))\n",
        "\n",
        "        upvotes = []\n",
        "        for vote in upvote_elements:\n",
        "            match = re.search(r\"(\\d+)\", vote.get_text())  # Extract numeric value\n",
        "            if match:\n",
        "                upvotes.append(int(match.group(1)))\n",
        "            else:\n",
        "                upvotes.append(0)  # If no upvote is found, default to 0\n",
        "\n",
        "        # Write answers and upvotes to CSV\n",
        "        for i, ans in enumerate(answers[:len(upvotes)]):  # Ensure index alignment\n",
        "            writer.writerow([url, ans.get_text(strip=True), upvotes[i]])\n",
        "\n",
        "print(f\"✅ Answers saved successfully in {csv_filename}!\")"
      ],
      "metadata": {
        "colab": {
          "base_uri": "https://localhost:8080/"
        },
        "id": "rxmRA4XbJNRh",
        "outputId": "5b8124aa-1209-41cc-8705-ab8ec410a325"
      },
      "execution_count": 20,
      "outputs": [
        {
          "output_type": "stream",
          "name": "stdout",
          "text": [
            "✅ Answers saved successfully in /content/quora_answers_gujarat.csv!\n"
          ]
        }
      ]
    },
    {
      "cell_type": "markdown",
      "source": [
        "# **Bihar**"
      ],
      "metadata": {
        "id": "vpHZ_MJlJmk9"
      }
    },
    {
      "cell_type": "code",
      "source": [
        "# List of Quora questions\n",
        "quora_urls = [\n",
        "\"https://www.quora.com/What-are-the-common-stereotypes-about-a-Bihari\",\n",
        "\"https://www.quora.com/Are-there-any-positive-stereotypes-about-Bihar-Biharis\",\n",
        "\"https://suman92.quora.com/If-you-heard-about-Bihar-what-things-come-to-your-mind\",\n",
        "\"https://www.quora.com/Why-are-Biharis-treated-odd\",\n",
        "\"https://www.quora.com/Why-do-most-people-hate-Biharis-but-not-so-much-the-Bihari-culture-or-their-way-of-things\",\n",
        "\"https://www.quora.com/Why-do-people-from-other-states-have-hatred-toward-Bihar-and-Biharis\",\n",
        "\"https://www.quora.com/Do-Maharashtrians-hate-Biharis-and-if-yes-why\",\n",
        "\"https://www.quora.com/Why-are-the-Biharis-hated-in-North-India-especially-Delhi\",\n",
        "\"https://www.quora.com/Biharis-are-blamed-for-traffic-crime-rates-population-etc-They-are-underestimated-but-often-top-rankers-in-competitive-exams-Also-they-have-a-very-rich-cultural-background-Do-you-feel-the-same-What-are-some-misconceptions-about-Bihari-people\"\n",
        "\"https://www.quora.com/What-do-you-think-about-Bihar-and-Bihari-people\",\n",
        "\"https://www.quora.com/What-do-other-states-people-think-about-Bihar\",\n",
        "\"https://www.quora.com/Why-do-people-make-fun-of-Biharis\",\n",
        "\"https://www.quora.com/Why-have-Bihari-people-been-stereotyped-in-India\"\n",
        "]\n",
        "\n",
        "# CSV file to store results\n",
        "csv_filename = \"/content/quora_answers_bihar.csv\"\n",
        "\n",
        "# Open CSV file and write headers\n",
        "with open(csv_filename, \"w\", newline=\"\", encoding=\"utf-8\") as file:\n",
        "    writer = csv.writer(file)\n",
        "    writer.writerow([\"Question URL\", \"Answer\", \"Upvotes\"])  # Column headers\n",
        "\n",
        "    # Loop through each Quora URL\n",
        "    for url in quora_urls:\n",
        "        driver.get(url)\n",
        "        time.sleep(5)  # Wait for page to load\n",
        "\n",
        "        # Scroll to load more content dynamically\n",
        "        for _ in range(3):\n",
        "            driver.execute_script(\"window.scrollTo(0, document.body.scrollHeight);\")\n",
        "            time.sleep(3)\n",
        "\n",
        "        # Parse the page\n",
        "        soup = BeautifulSoup(driver.page_source, \"html.parser\")\n",
        "\n",
        "        # Extract answers\n",
        "        answers = soup.find_all(\"div\", class_=\"q-text\")  # Class may need updating\n",
        "\n",
        "        # Extract upvotes (Quora may use aria-label or other elements)\n",
        "        upvote_elements = soup.find_all(\"span\", string=re.compile(r\"upvote\", re.IGNORECASE))\n",
        "\n",
        "        upvotes = []\n",
        "        for vote in upvote_elements:\n",
        "            match = re.search(r\"(\\d+)\", vote.get_text())  # Extract numeric value\n",
        "            if match:\n",
        "                upvotes.append(int(match.group(1)))\n",
        "            else:\n",
        "                upvotes.append(0)  # If no upvote is found, default to 0\n",
        "\n",
        "        # Write answers and upvotes to CSV\n",
        "        for i, ans in enumerate(answers[:len(upvotes)]):  # Ensure index alignment\n",
        "            writer.writerow([url, ans.get_text(strip=True), upvotes[i]])\n",
        "\n",
        "print(f\"✅ Answers saved successfully in {csv_filename}!\")"
      ],
      "metadata": {
        "colab": {
          "base_uri": "https://localhost:8080/"
        },
        "id": "WoqXfOLAJtHG",
        "outputId": "be954275-c3e2-41c6-f338-8dd7cd26c6a8"
      },
      "execution_count": 21,
      "outputs": [
        {
          "output_type": "stream",
          "name": "stdout",
          "text": [
            "✅ Answers saved successfully in /content/quora_answers_bihar.csv!\n"
          ]
        }
      ]
    },
    {
      "cell_type": "markdown",
      "source": [
        "# **Punjab**"
      ],
      "metadata": {
        "id": "kN0h8R-GKZkN"
      }
    },
    {
      "cell_type": "code",
      "source": [
        "# List of Quora questions\n",
        "quora_urls = [\n",
        "\"https://www.quora.com/What-are-the-main-stereotypes-about-Punjabis\",\n",
        "\"https://www.quora.com/What-are-the-common-misconceptions-about-Punjab\",\n",
        "\"https://www.quora.com/Being-Punjabi-what-are-the-myths-rumers-misconceptions-amongst-other-Indians-about-Punjabis-Punjab-you-would-like-to-remove-correctly\",\n",
        "\"https://www.quora.com/What-are-some-facts-people-usually-dont-know-about-Punjab\",\n",
        "\"https://www.quora.com/Why-do-Punjabis-want-to-go-to-Canada\",\n",
        "\"https://www.quora.com/Why-do-people-of-Punjab-India-do-drugs-Are-they-very-rich\"\n",
        "]\n",
        "\n",
        "# CSV file to store results\n",
        "csv_filename = \"/content/quora_answers_punjab.csv\"\n",
        "\n",
        "# Open CSV file and write headers\n",
        "with open(csv_filename, \"w\", newline=\"\", encoding=\"utf-8\") as file:\n",
        "    writer = csv.writer(file)\n",
        "    writer.writerow([\"Question URL\", \"Answer\", \"Upvotes\"])  # Column headers\n",
        "\n",
        "    # Loop through each Quora URL\n",
        "    for url in quora_urls:\n",
        "        driver.get(url)\n",
        "        time.sleep(5)  # Wait for page to load\n",
        "\n",
        "        # Scroll to load more content dynamically\n",
        "        for _ in range(3):\n",
        "            driver.execute_script(\"window.scrollTo(0, document.body.scrollHeight);\")\n",
        "            time.sleep(3)\n",
        "\n",
        "        # Parse the page\n",
        "        soup = BeautifulSoup(driver.page_source, \"html.parser\")\n",
        "\n",
        "        # Extract answers\n",
        "        answers = soup.find_all(\"div\", class_=\"q-text\")  # Class may need updating\n",
        "\n",
        "        # Extract upvotes (Quora may use aria-label or other elements)\n",
        "        upvote_elements = soup.find_all(\"span\", string=re.compile(r\"upvote\", re.IGNORECASE))\n",
        "\n",
        "        upvotes = []\n",
        "        for vote in upvote_elements:\n",
        "            match = re.search(r\"(\\d+)\", vote.get_text())  # Extract numeric value\n",
        "            if match:\n",
        "                upvotes.append(int(match.group(1)))\n",
        "            else:\n",
        "                upvotes.append(0)  # If no upvote is found, default to 0\n",
        "\n",
        "        # Write answers and upvotes to CSV\n",
        "        for i, ans in enumerate(answers[:len(upvotes)]):  # Ensure index alignment\n",
        "            writer.writerow([url, ans.get_text(strip=True), upvotes[i]])\n",
        "\n",
        "print(f\"✅ Answers saved successfully in {csv_filename}!\")"
      ],
      "metadata": {
        "colab": {
          "base_uri": "https://localhost:8080/"
        },
        "id": "3wzLPqj0KZ-k",
        "outputId": "cb9482ce-3886-430a-f371-0f9b3bf5f20a"
      },
      "execution_count": 22,
      "outputs": [
        {
          "output_type": "stream",
          "name": "stdout",
          "text": [
            "✅ Answers saved successfully in /content/quora_answers_punjab.csv!\n"
          ]
        }
      ]
    },
    {
      "cell_type": "markdown",
      "source": [
        "# **Madhya Pradesh**"
      ],
      "metadata": {
        "id": "iantVX2GK3NB"
      }
    },
    {
      "cell_type": "code",
      "source": [
        "# List of Quora questions\n",
        "quora_urls = [\n",
        "\"https://www.quora.com/What-are-the-myths-and-misconceptions-about-Madhya-Pradesh-MP-you-have-heard\",\n",
        "\"https://www.quora.com/Being-an-Indorian-what-are-the-myths-rumers-misconceptions-amongst-other-Indians-about-Madhya-Pradesh-and-Indore-City-you-would-like-to-remove-correctly\",\n",
        "\"https://www.quora.com/What-are-the-common-misconceptions-about-Madhya-Pradesh\"\n",
        "]\n",
        "\n",
        "# CSV file to store results\n",
        "csv_filename = \"/content/quora_answers_madhyapradesh.csv\"\n",
        "\n",
        "# Open CSV file and write headers\n",
        "with open(csv_filename, \"w\", newline=\"\", encoding=\"utf-8\") as file:\n",
        "    writer = csv.writer(file)\n",
        "    writer.writerow([\"Question URL\", \"Answer\", \"Upvotes\"])  # Column headers\n",
        "\n",
        "    # Loop through each Quora URL\n",
        "    for url in quora_urls:\n",
        "        driver.get(url)\n",
        "        time.sleep(5)  # Wait for page to load\n",
        "\n",
        "        # Scroll to load more content dynamically\n",
        "        for _ in range(3):\n",
        "            driver.execute_script(\"window.scrollTo(0, document.body.scrollHeight);\")\n",
        "            time.sleep(3)\n",
        "\n",
        "        # Parse the page\n",
        "        soup = BeautifulSoup(driver.page_source, \"html.parser\")\n",
        "\n",
        "        # Extract answers\n",
        "        answers = soup.find_all(\"div\", class_=\"q-text\")  # Class may need updating\n",
        "\n",
        "        # Extract upvotes (Quora may use aria-label or other elements)\n",
        "        upvote_elements = soup.find_all(\"span\", string=re.compile(r\"upvote\", re.IGNORECASE))\n",
        "\n",
        "        upvotes = []\n",
        "        for vote in upvote_elements:\n",
        "            match = re.search(r\"(\\d+)\", vote.get_text())  # Extract numeric value\n",
        "            if match:\n",
        "                upvotes.append(int(match.group(1)))\n",
        "            else:\n",
        "                upvotes.append(0)  # If no upvote is found, default to 0\n",
        "\n",
        "        # Write answers and upvotes to CSV\n",
        "        for i, ans in enumerate(answers[:len(upvotes)]):  # Ensure index alignment\n",
        "            writer.writerow([url, ans.get_text(strip=True), upvotes[i]])\n",
        "\n",
        "print(f\"✅ Answers saved successfully in {csv_filename}!\")"
      ],
      "metadata": {
        "colab": {
          "base_uri": "https://localhost:8080/"
        },
        "id": "bzEfL_crK47U",
        "outputId": "d41be684-d10c-4ab4-9411-94e28c70dd9d"
      },
      "execution_count": 23,
      "outputs": [
        {
          "output_type": "stream",
          "name": "stdout",
          "text": [
            "✅ Answers saved successfully in /content/quora_answers_madhyapradesh.csv!\n"
          ]
        }
      ]
    },
    {
      "cell_type": "markdown",
      "source": [
        "# **Rajasthan**"
      ],
      "metadata": {
        "id": "-C8AzovMLKl0"
      }
    },
    {
      "cell_type": "code",
      "source": [
        "# List of Quora questions\n",
        "quora_urls = [\n",
        "\"https://www.quora.com/What-are-the-myths-about-Rajasthan-that-every-Rajasthani-has-to-deal-with\",\n",
        "\"https://www.quora.com/What-are-some-misconceptions-about-Rajasthan\",\n",
        "\"https://www.quora.com/What-facts-about-Jaipur-people-do-not-believe-until-they-come-to-Jaipur\",\n",
        "\"https://www.quora.com/What-are-some-common-misconceptions-about-Marwadis\",\n",
        "\"https://www.quora.com/What-should-every-Indian-know-about-Rajasthan-and-the-people-of-Rajasthan\",\n",
        "\"https://www.quora.com/What-do-people-from-outside-Rajasthan-think-about-Rajasthan\"\n",
        "]\n",
        "\n",
        "# CSV file to store results\n",
        "csv_filename = \"/content/quora_answers_rajasthan.csv\"\n",
        "\n",
        "# Open CSV file and write headers\n",
        "with open(csv_filename, \"w\", newline=\"\", encoding=\"utf-8\") as file:\n",
        "    writer = csv.writer(file)\n",
        "    writer.writerow([\"Question URL\", \"Answer\", \"Upvotes\"])  # Column headers\n",
        "\n",
        "    # Loop through each Quora URL\n",
        "    for url in quora_urls:\n",
        "        driver.get(url)\n",
        "        time.sleep(5)  # Wait for page to load\n",
        "\n",
        "        # Scroll to load more content dynamically\n",
        "        for _ in range(3):\n",
        "            driver.execute_script(\"window.scrollTo(0, document.body.scrollHeight);\")\n",
        "            time.sleep(3)\n",
        "\n",
        "        # Parse the page\n",
        "        soup = BeautifulSoup(driver.page_source, \"html.parser\")\n",
        "\n",
        "        # Extract answers\n",
        "        answers = soup.find_all(\"div\", class_=\"q-text\")  # Class may need updating\n",
        "\n",
        "        # Extract upvotes (Quora may use aria-label or other elements)\n",
        "        upvote_elements = soup.find_all(\"span\", string=re.compile(r\"upvote\", re.IGNORECASE))\n",
        "\n",
        "        upvotes = []\n",
        "        for vote in upvote_elements:\n",
        "            match = re.search(r\"(\\d+)\", vote.get_text())  # Extract numeric value\n",
        "            if match:\n",
        "                upvotes.append(int(match.group(1)))\n",
        "            else:\n",
        "                upvotes.append(0)  # If no upvote is found, default to 0\n",
        "\n",
        "        # Write answers and upvotes to CSV\n",
        "        for i, ans in enumerate(answers[:len(upvotes)]):  # Ensure index alignment\n",
        "            writer.writerow([url, ans.get_text(strip=True), upvotes[i]])\n",
        "\n",
        "print(f\"✅ Answers saved successfully in {csv_filename}!\")"
      ],
      "metadata": {
        "colab": {
          "base_uri": "https://localhost:8080/"
        },
        "id": "H516p7UXLLB8",
        "outputId": "d032f5c9-b1dd-4f75-b55c-61b1f5a6ac68"
      },
      "execution_count": 24,
      "outputs": [
        {
          "output_type": "stream",
          "name": "stdout",
          "text": [
            "✅ Answers saved successfully in /content/quora_answers_rajasthan.csv!\n"
          ]
        }
      ]
    },
    {
      "cell_type": "markdown",
      "source": [
        "# **Uttarakhand and Jammu and Kashmir**"
      ],
      "metadata": {
        "id": "u3ZEDLCDMEni"
      }
    },
    {
      "cell_type": "code",
      "source": [
        "# List of Quora questions\n",
        "quora_urls = [\n",
        "\"https://www.quora.com/What-are-some-common-misconceptions-about-Pahadis-of-Uttarakhand\",\n",
        "\"https://www.quora.com/When-will-Uttarakhand-develop-in-years\",\n",
        "\"https://www.quora.com/What-are-some-misconceptions-about-Jammu-and-Kashmir\",\n",
        "\"https://www.quora.com/What-should-every-Indian-know-about-Kashmir-and-Kashmiris\",\n",
        "\"https://www.quora.com/What-do-Indians-think-about-Jammu\",\n",
        "\"https://www.quora.com/What-are-some-common-misconceptions-about-Jammu-and-Kashmir-How-can-these-misconceptions-be-corrected\",\n",
        "\"https://www.quora.com/unanswered/What-things-are-said-about-Jammu-and-Kashmir-that-arent-true\",\n",
        "\"https://www.quora.com/unanswered/What-are-some-ways-to-correct-misconceptions-about-Indian-occupied-Jammu-and-Kashmir-IOJK?q=misconceptions%20about%20about%20jammu%20and%20kashmir\"\n",
        "]\n",
        "\n",
        "# CSV file to store results\n",
        "csv_filename = \"/content/quora_answers_uttrakhandandjandk.csv\"\n",
        "\n",
        "# Open CSV file and write headers\n",
        "with open(csv_filename, \"w\", newline=\"\", encoding=\"utf-8\") as file:\n",
        "    writer = csv.writer(file)\n",
        "    writer.writerow([\"Question URL\", \"Answer\", \"Upvotes\"])  # Column headers\n",
        "\n",
        "    # Loop through each Quora URL\n",
        "    for url in quora_urls:\n",
        "        driver.get(url)\n",
        "        time.sleep(5)  # Wait for page to load\n",
        "\n",
        "        # Scroll to load more content dynamically\n",
        "        for _ in range(3):\n",
        "            driver.execute_script(\"window.scrollTo(0, document.body.scrollHeight);\")\n",
        "            time.sleep(3)\n",
        "\n",
        "        # Parse the page\n",
        "        soup = BeautifulSoup(driver.page_source, \"html.parser\")\n",
        "\n",
        "        # Extract answers\n",
        "        answers = soup.find_all(\"div\", class_=\"q-text\")  # Class may need updating\n",
        "\n",
        "        # Extract upvotes (Quora may use aria-label or other elements)\n",
        "        upvote_elements = soup.find_all(\"span\", string=re.compile(r\"upvote\", re.IGNORECASE))\n",
        "\n",
        "        upvotes = []\n",
        "        for vote in upvote_elements:\n",
        "            match = re.search(r\"(\\d+)\", vote.get_text())  # Extract numeric value\n",
        "            if match:\n",
        "                upvotes.append(int(match.group(1)))\n",
        "            else:\n",
        "                upvotes.append(0)  # If no upvote is found, default to 0\n",
        "\n",
        "        # Write answers and upvotes to CSV\n",
        "        for i, ans in enumerate(answers[:len(upvotes)]):  # Ensure index alignment\n",
        "            writer.writerow([url, ans.get_text(strip=True), upvotes[i]])\n",
        "\n",
        "print(f\"✅ Answers saved successfully in {csv_filename}!\")"
      ],
      "metadata": {
        "colab": {
          "base_uri": "https://localhost:8080/"
        },
        "id": "-TlIzuqXME5C",
        "outputId": "6478e917-3884-46fa-eda7-2a5906234fc7"
      },
      "execution_count": 25,
      "outputs": [
        {
          "output_type": "stream",
          "name": "stdout",
          "text": [
            "✅ Answers saved successfully in /content/quora_answers_uttrakhandandjandk.csv!\n"
          ]
        }
      ]
    },
    {
      "cell_type": "markdown",
      "source": [
        "# **North-East**"
      ],
      "metadata": {
        "id": "ucYdvE2OMYpy"
      }
    },
    {
      "cell_type": "code",
      "source": [
        "# List of Quora questions\n",
        "quora_urls = [\n",
        "\"https://www.quora.com/What-are-some-misconceptions-regarding-Assam\",\n",
        "\"https://www.quora.com/What-are-some-myths-about-Assam\",\n",
        "\"https://www.quora.com/Being-Assamese-what-are-the-myths-rumers-misconceptions-amongst-other-Indians-about-Asam-and-Assam-you-would-like-to-remove-correctly\",\n",
        "\"https://www.quora.com/What-are-some-common-misconceptions-about-Arunachal-Pradesh\",\n",
        "\"https://www.quora.com/unanswered/What-are-common-misconceptions-about-daily-life-in-Arunachal-Pradesh\",\n",
        "\"https://www.quora.com/What-are-some-common-misconceptions-about-Meghalaya\",\n",
        "\"https://www.quora.com/What-are-the-most-common-misconceptions-about-common-misconceptions?q=misconceptions%20about%20meghalaya\",\n",
        "\"https://www.quora.com/What-are-some-common-misconceptions-about-Manipur\",\n",
        "\"https://www.quora.com/What-are-some-common-misconceptions-about-Tripura\",\n",
        "\"https://www.quora.com/unanswered/What-are-some-misconceptions-about-Tripura-from-people-of-other-states\",\n",
        "\"https://www.quora.com/What-are-some-common-misconceptions-about-Sikkim\",\n",
        "\"https://www.quora.com/What-are-some-common-misconceptions-about-Nagaland\",\n",
        "\"https://www.quora.com/What-stereotypes-do-North-East-Indians-generally-face-in-India\",\n",
        "\"https://www.quora.com/What-are-the-biggest-misconceptions-that-non-Northeast-Indians-generally-have-about-Northeast-India\",\n",
        "\"https://www.quora.com/Why-are-some-people-intolerant-towards-North-Eastern-Indians-Does-this-arise-from-a-historical-misconception-or-a-sociological-disorder\",\n",
        "\"https://www.quora.com/Why-do-people-from-rest-of-India-know-so-little-that-too-mostly-misconceptions-about-its-North-East\",\n",
        "\"https://www.quora.com/Why-in-India-most-of-the-people-dont-know-much-about-north-east-even-the-names-of-the-states\",\n",
        "\"https://www.quora.com/What-do-people-from-other-states-of-India-think-about-North-East-and-Assam\",\n",
        "\"https://www.quora.com/What-are-some-of-the-most-common-misconceptions-people-have-about-North-East-India\",\n",
        "\"https://www.quora.com/Do-North-East-Indians-Assam-Sikkim-Meghalaya-Manipur-Arunachal-Pradesh-Mizoram-Tripura-and-Nagaland-face-racism-in-Delhi-Mumbai-Pune-Bangalore-Hyderabad-Chennai-Kolkata-Goa-Chandigarh-Ahmedabad-Lucknow-Dehradun\",\n",
        "\"https://www.quora.com/What-are-some-common-myths-about-the-Northeast-of-India\",\n",
        "\"https://www.quora.com/Why-are-people-from-North-East-India-still-referred-to-as-Chinese-How-do-North-East-Indians-feel-about-it\",\n",
        "\"https://www.quora.com/What-stereotypes-do-North-East-Indians-generally-face-in-India\"\n",
        "]\n",
        "\n",
        "# CSV file to store results\n",
        "csv_filename = \"/content/quora_answers_northeast.csv\"\n",
        "\n",
        "# Open CSV file and write headers\n",
        "with open(csv_filename, \"w\", newline=\"\", encoding=\"utf-8\") as file:\n",
        "    writer = csv.writer(file)\n",
        "    writer.writerow([\"Question URL\", \"Answer\", \"Upvotes\"])  # Column headers\n",
        "\n",
        "    # Loop through each Quora URL\n",
        "    for url in quora_urls:\n",
        "        driver.get(url)\n",
        "        time.sleep(5)  # Wait for page to load\n",
        "\n",
        "        # Scroll to load more content dynamically\n",
        "        for _ in range(3):\n",
        "            driver.execute_script(\"window.scrollTo(0, document.body.scrollHeight);\")\n",
        "            time.sleep(3)\n",
        "\n",
        "        # Parse the page\n",
        "        soup = BeautifulSoup(driver.page_source, \"html.parser\")\n",
        "\n",
        "        # Extract answers\n",
        "        answers = soup.find_all(\"div\", class_=\"q-text\")  # Class may need updating\n",
        "\n",
        "        # Extract upvotes (Quora may use aria-label or other elements)\n",
        "        upvote_elements = soup.find_all(\"span\", string=re.compile(r\"upvote\", re.IGNORECASE))\n",
        "\n",
        "        upvotes = []\n",
        "        for vote in upvote_elements:\n",
        "            match = re.search(r\"(\\d+)\", vote.get_text())  # Extract numeric value\n",
        "            if match:\n",
        "                upvotes.append(int(match.group(1)))\n",
        "            else:\n",
        "                upvotes.append(0)  # If no upvote is found, default to 0\n",
        "\n",
        "        # Write answers and upvotes to CSV\n",
        "        for i, ans in enumerate(answers[:len(upvotes)]):  # Ensure index alignment\n",
        "            writer.writerow([url, ans.get_text(strip=True), upvotes[i]])\n",
        "\n",
        "print(f\"✅ Answers saved successfully in {csv_filename}!\")"
      ],
      "metadata": {
        "colab": {
          "base_uri": "https://localhost:8080/"
        },
        "id": "NdSL1xVLMY6-",
        "outputId": "299e3fa6-c5a8-468c-beb1-aab87a9c1d09"
      },
      "execution_count": 26,
      "outputs": [
        {
          "output_type": "stream",
          "name": "stdout",
          "text": [
            "✅ Answers saved successfully in /content/quora_answers_northeast.csv!\n"
          ]
        }
      ]
    },
    {
      "cell_type": "markdown",
      "source": [
        "# **Maharastra**"
      ],
      "metadata": {
        "id": "_BCSWeZJOPNx"
      }
    },
    {
      "cell_type": "code",
      "source": [
        "# List of Quora questions\n",
        "quora_urls = [\n",
        "\"https://www.quora.com/What-are-the-common-misconception-people-have-about-the-Marathi-people\",\n",
        "\"https://www.quora.com/What-common-misconceptions-do-Indians-hold-for-Marathi-and-Gujarati-people\",\n",
        "\"https://www.quora.com/What-are-the-common-misconceptions-about-Maharashtra\",\n",
        "\"https://www.quora.com/What-are-some-common-misconceptions-about-Mumbai\",\n",
        "\"https://www.quora.com/Why-are-Marathi-people-bad-at-doing-business\",\n",
        "\"https://www.quora.com/What-do-non-Marathis-think-about-Marathi-people\",\n",
        "\"https://www.quora.com/What-are-qualities-of-a-stereotypical-Marathi\",\n",
        "\"https://www.quora.com/What-are-some-stereotypes-about-Maharashtrians\",\n",
        "\"https://www.quora.com/Why-does-Indian-media-portray-Maharashtrians-as-housemaids-or-living-in-slums\",\n",
        "\"https://www.quora.com/What-do-people-from-Chandigarh-think-about-Maharashtra-Marathi-people-language-and-culture\",\n",
        "\"https://www.quora.com/What-are-some-common-mistakes-that-Marathi-people-make\",\n",
        "\"https://www.quora.com/What-do-Maharashtrians-Marathis-think-about-Bengalis-people-of-West-Bengal\",\n",
        "\"https://www.quora.com/What-do-Bengalis-think-about-Maharashtrians\",\n",
        "\"https://www.quora.com/What-does-the-rest-of-India-think-of-Maharashtra-and-its-people\"\n",
        "]\n",
        "\n",
        "# CSV file to store results\n",
        "csv_filename = \"/content/quora_answers_maharastra.csv\"\n",
        "\n",
        "# Open CSV file and write headers\n",
        "with open(csv_filename, \"w\", newline=\"\", encoding=\"utf-8\") as file:\n",
        "    writer = csv.writer(file)\n",
        "    writer.writerow([\"Question URL\", \"Answer\", \"Upvotes\"])  # Column headers\n",
        "\n",
        "    # Loop through each Quora URL\n",
        "    for url in quora_urls:\n",
        "        driver.get(url)\n",
        "        time.sleep(5)  # Wait for page to load\n",
        "\n",
        "        # Scroll to load more content dynamically\n",
        "        for _ in range(3):\n",
        "            driver.execute_script(\"window.scrollTo(0, document.body.scrollHeight);\")\n",
        "            time.sleep(3)\n",
        "\n",
        "        # Parse the page\n",
        "        soup = BeautifulSoup(driver.page_source, \"html.parser\")\n",
        "\n",
        "        # Extract answers\n",
        "        answers = soup.find_all(\"div\", class_=\"q-text\")  # Class may need updating\n",
        "\n",
        "        # Extract upvotes (Quora may use aria-label or other elements)\n",
        "        upvote_elements = soup.find_all(\"span\", string=re.compile(r\"upvote\", re.IGNORECASE))\n",
        "\n",
        "        upvotes = []\n",
        "        for vote in upvote_elements:\n",
        "            match = re.search(r\"(\\d+)\", vote.get_text())  # Extract numeric value\n",
        "            if match:\n",
        "                upvotes.append(int(match.group(1)))\n",
        "            else:\n",
        "                upvotes.append(0)  # If no upvote is found, default to 0\n",
        "\n",
        "        # Write answers and upvotes to CSV\n",
        "        for i, ans in enumerate(answers[:len(upvotes)]):  # Ensure index alignment\n",
        "            writer.writerow([url, ans.get_text(strip=True), upvotes[i]])\n",
        "\n",
        "print(f\"✅ Answers saved successfully in {csv_filename}!\")"
      ],
      "metadata": {
        "colab": {
          "base_uri": "https://localhost:8080/"
        },
        "id": "OWj8HogyOPkp",
        "outputId": "0a590cb8-3d50-428f-a9aa-c6cb40294799"
      },
      "execution_count": 27,
      "outputs": [
        {
          "output_type": "stream",
          "name": "stdout",
          "text": [
            "✅ Answers saved successfully in /content/quora_answers_maharastra.csv!\n"
          ]
        }
      ]
    },
    {
      "cell_type": "markdown",
      "source": [
        "# **Kerala**"
      ],
      "metadata": {
        "id": "BP5DFmsJO-uB"
      }
    },
    {
      "cell_type": "code",
      "source": [
        "# List of Quora questions\n",
        "quora_urls = [\n",
        "\"https://www.quora.com/What-are-the-misconceptions-about-Kerala\",\n",
        "\"https://www.quora.com/What-are-some-of-the-common-myths-or-misconceptions-that-you-have-heard-about-Kerala-or-Keralites-Malayalis-What-is-your-personal-opinion-on-them\",\n",
        "\"https://www.quora.com/What-were-the-lies-you-were-told-about-Kerala\",\n",
        "\"https://www.quora.com/unanswered/What-are-the-ten-biggest-lies-taught-and-told-about-the-history-of-Kerala\",\n",
        "\"https://www.quora.com/What-are-some-of-the-biggest-myths-about-Kerala\",\n",
        "\"https://www.quora.com/Being-Malayali-what-are-the-myths-rumers-misconceptions-amongst-other-Indians-about-Malayalis-Keralites-you-would-like-to-remove-correctly\",\n",
        "\"https://www.quora.com/What-are-some-negative-stereotypes-about-Kerala-Keralites-or-Malayalis\",\n",
        "\"https://www.quora.com/What-are-some-common-stereotypes-about-Malayalis-Kerala-people\",\n",
        "\"https://www.quora.com/What-are-some-stereotypes-that-people-from-outside-Kerala-have-about-Malayalis\",\n",
        "\"https://www.quora.com/What-do-Kannadigas-think-of-Malayalee\"\n",
        "]\n",
        "\n",
        "# CSV file to store results\n",
        "csv_filename = \"/content/quora_answers_kerala.csv\"\n",
        "\n",
        "# Open CSV file and write headers\n",
        "with open(csv_filename, \"w\", newline=\"\", encoding=\"utf-8\") as file:\n",
        "    writer = csv.writer(file)\n",
        "    writer.writerow([\"Question URL\", \"Answer\", \"Upvotes\"])  # Column headers\n",
        "\n",
        "    # Loop through each Quora URL\n",
        "    for url in quora_urls:\n",
        "        driver.get(url)\n",
        "        time.sleep(5)  # Wait for page to load\n",
        "\n",
        "        # Scroll to load more content dynamically\n",
        "        for _ in range(3):\n",
        "            driver.execute_script(\"window.scrollTo(0, document.body.scrollHeight);\")\n",
        "            time.sleep(3)\n",
        "\n",
        "        # Parse the page\n",
        "        soup = BeautifulSoup(driver.page_source, \"html.parser\")\n",
        "\n",
        "        # Extract answers\n",
        "        answers = soup.find_all(\"div\", class_=\"q-text\")  # Class may need updating\n",
        "\n",
        "        # Extract upvotes (Quora may use aria-label or other elements)\n",
        "        upvote_elements = soup.find_all(\"span\", string=re.compile(r\"upvote\", re.IGNORECASE))\n",
        "\n",
        "        upvotes = []\n",
        "        for vote in upvote_elements:\n",
        "            match = re.search(r\"(\\d+)\", vote.get_text())  # Extract numeric value\n",
        "            if match:\n",
        "                upvotes.append(int(match.group(1)))\n",
        "            else:\n",
        "                upvotes.append(0)  # If no upvote is found, default to 0\n",
        "\n",
        "        # Write answers and upvotes to CSV\n",
        "        for i, ans in enumerate(answers[:len(upvotes)]):  # Ensure index alignment\n",
        "            writer.writerow([url, ans.get_text(strip=True), upvotes[i]])\n",
        "\n",
        "print(f\"✅ Answers saved successfully in {csv_filename}!\")"
      ],
      "metadata": {
        "colab": {
          "base_uri": "https://localhost:8080/"
        },
        "id": "aUJCOrMbO_E7",
        "outputId": "89d261d2-e11b-4d52-8c16-7895d56be73e"
      },
      "execution_count": 28,
      "outputs": [
        {
          "output_type": "stream",
          "name": "stdout",
          "text": [
            "✅ Answers saved successfully in /content/quora_answers_kerala.csv!\n"
          ]
        }
      ]
    },
    {
      "cell_type": "markdown",
      "source": [
        "# **Goa**"
      ],
      "metadata": {
        "id": "lIVWyLBRPcqz"
      }
    },
    {
      "cell_type": "code",
      "source": [
        "# List of Quora questions\n",
        "quora_urls = [\n",
        "\"https://www.quora.com/What-are-the-common-misconceptions-people-have-about-Goa\",\n",
        "\"https://www.quora.com/What-are-some-misconceptions-that-Indian-tourists-have-about-Goa-and-Goans\",\n",
        "\"https://www.quora.com/What-are-the-common-misconceptions-about-Goa\",\n",
        "\"https://www.quora.com/What-are-some-myths-about-Goa\",\n",
        "\"https://www.quora.com/Goa-India-What-is-a-stereotypical-Goan-like\",\n",
        "\"https://www.quora.com/unanswered/What-are-some-stereotypes-about-the-people-of-Goa-How-do-they-differ-from-other-Indians-in-terms-of-behaviour?q=stereotypes%20about%20goa\"\n",
        "]\n",
        "\n",
        "# CSV file to store results\n",
        "csv_filename = \"/content/quora_answers_goa.csv\"\n",
        "\n",
        "# Open CSV file and write headers\n",
        "with open(csv_filename, \"w\", newline=\"\", encoding=\"utf-8\") as file:\n",
        "    writer = csv.writer(file)\n",
        "    writer.writerow([\"Question URL\", \"Answer\", \"Upvotes\"])  # Column headers\n",
        "\n",
        "    # Loop through each Quora URL\n",
        "    for url in quora_urls:\n",
        "        driver.get(url)\n",
        "        time.sleep(5)  # Wait for page to load\n",
        "\n",
        "        # Scroll to load more content dynamically\n",
        "        for _ in range(3):\n",
        "            driver.execute_script(\"window.scrollTo(0, document.body.scrollHeight);\")\n",
        "            time.sleep(3)\n",
        "\n",
        "        # Parse the page\n",
        "        soup = BeautifulSoup(driver.page_source, \"html.parser\")\n",
        "\n",
        "        # Extract answers\n",
        "        answers = soup.find_all(\"div\", class_=\"q-text\")  # Class may need updating\n",
        "\n",
        "        # Extract upvotes (Quora may use aria-label or other elements)\n",
        "        upvote_elements = soup.find_all(\"span\", string=re.compile(r\"upvote\", re.IGNORECASE))\n",
        "\n",
        "        upvotes = []\n",
        "        for vote in upvote_elements:\n",
        "            match = re.search(r\"(\\d+)\", vote.get_text())  # Extract numeric value\n",
        "            if match:\n",
        "                upvotes.append(int(match.group(1)))\n",
        "            else:\n",
        "                upvotes.append(0)  # If no upvote is found, default to 0\n",
        "\n",
        "        # Write answers and upvotes to CSV\n",
        "        for i, ans in enumerate(answers[:len(upvotes)]):  # Ensure index alignment\n",
        "            writer.writerow([url, ans.get_text(strip=True), upvotes[i]])\n",
        "\n",
        "print(f\"✅ Answers saved successfully in {csv_filename}!\")"
      ],
      "metadata": {
        "colab": {
          "base_uri": "https://localhost:8080/"
        },
        "id": "gDgbRLDCPc9L",
        "outputId": "0da12ecc-01a6-450b-a797-8a298047e125"
      },
      "execution_count": 29,
      "outputs": [
        {
          "output_type": "stream",
          "name": "stdout",
          "text": [
            "✅ Answers saved successfully in /content/quora_answers_goa.csv!\n"
          ]
        }
      ]
    },
    {
      "cell_type": "markdown",
      "source": [
        "# **West Bengal**"
      ],
      "metadata": {
        "id": "NlyGsbYHP3kF"
      }
    },
    {
      "cell_type": "code",
      "source": [
        "# List of Quora questions\n",
        "quora_urls = [\n",
        "\"https://www.quora.com/What-misconceptions-people-have-about-Bengalis\"\n",
        "\"https://www.quora.com/What-are-some-common-misconceptions-about-the-Bengali-culture-or-community-in-India\",\n",
        "\"https://www.quora.com/What-are-some-common-stereotypes-or-thoughts-about-a-Probashi-Bengali-or-a-Bengali-brought-up-outside-West-Bengal\",\n",
        "\"https://www.quora.com/unanswered/What-are-the-most-bizarre-stereotypes-about-Bengali-culture-youve-encountered?q=stereotypes%20about%20bengal\",\n",
        "\"https://www.quora.com/How-hard-is-it-for-a-Bengali-born-in-West-Bengal-to-stay-outside-Bengal\"\n",
        "]\n",
        "\n",
        "# CSV file to store results\n",
        "csv_filename = \"/content/quora_answers_westbengal.csv\"\n",
        "\n",
        "# Open CSV file and write headers\n",
        "with open(csv_filename, \"w\", newline=\"\", encoding=\"utf-8\") as file:\n",
        "    writer = csv.writer(file)\n",
        "    writer.writerow([\"Question URL\", \"Answer\", \"Upvotes\"])  # Column headers\n",
        "\n",
        "    # Loop through each Quora URL\n",
        "    for url in quora_urls:\n",
        "        driver.get(url)\n",
        "        time.sleep(5)  # Wait for page to load\n",
        "\n",
        "        # Scroll to load more content dynamically\n",
        "        for _ in range(3):\n",
        "            driver.execute_script(\"window.scrollTo(0, document.body.scrollHeight);\")\n",
        "            time.sleep(3)\n",
        "\n",
        "        # Parse the page\n",
        "        soup = BeautifulSoup(driver.page_source, \"html.parser\")\n",
        "\n",
        "        # Extract answers\n",
        "        answers = soup.find_all(\"div\", class_=\"q-text\")  # Class may need updating\n",
        "\n",
        "        # Extract upvotes (Quora may use aria-label or other elements)\n",
        "        upvote_elements = soup.find_all(\"span\", string=re.compile(r\"upvote\", re.IGNORECASE))\n",
        "\n",
        "        upvotes = []\n",
        "        for vote in upvote_elements:\n",
        "            match = re.search(r\"(\\d+)\", vote.get_text())  # Extract numeric value\n",
        "            if match:\n",
        "                upvotes.append(int(match.group(1)))\n",
        "            else:\n",
        "                upvotes.append(0)  # If no upvote is found, default to 0\n",
        "\n",
        "        # Write answers and upvotes to CSV\n",
        "        for i, ans in enumerate(answers[:len(upvotes)]):  # Ensure index alignment\n",
        "            writer.writerow([url, ans.get_text(strip=True), upvotes[i]])\n",
        "\n",
        "print(f\"✅ Answers saved successfully in {csv_filename}!\")"
      ],
      "metadata": {
        "colab": {
          "base_uri": "https://localhost:8080/"
        },
        "id": "ZRLbyv7RP3CB",
        "outputId": "f6f644fa-99ec-4d9c-e0c7-4178b09de231"
      },
      "execution_count": 30,
      "outputs": [
        {
          "output_type": "stream",
          "name": "stdout",
          "text": [
            "✅ Answers saved successfully in /content/quora_answers_westbengal.csv!\n"
          ]
        }
      ]
    },
    {
      "cell_type": "markdown",
      "source": [
        "# **Haryana and Himachal Pradesh**"
      ],
      "metadata": {
        "id": "Gn7-IdUNQVcq"
      }
    },
    {
      "cell_type": "code",
      "source": [
        "# List of Quora questions\n",
        "quora_urls = [\n",
        "\"https://www.quora.com/What-are-some-misconceptions-about-Haryana\",\n",
        "\"https://www.quora.com/What-do-other-Indians-think-of-Haryana-and-Haryanvis\",\n",
        "\"https://www.quora.com/What-are-some-common-misconceptions-about-jats\",\n",
        "\"https://www.quora.com/What-are-some-stereotypes-about-people-from-Haryana\",\n",
        "\"https://www.quora.com/What-do-you-think-about-the-people-of-Haryana\",\n",
        "\"https://www.quora.com/What-do-Kannadigas-think-about-the-Haryanvi-people\",\n",
        "\"https://www.quora.com/unanswered/What-are-some-stereotypes-about-Haryanavis-What-do-you-wish-Haryanvis-didnt-do?q=stereotypes%20about%20haryana\",\n",
        "\"https://www.quora.com/What-are-the-common-misconceptions-of-non-Himachali-people-about-Indian-state-of-HP\",\n",
        "\"https://www.quora.com/What-are-some-misconceptions-about-Himachalis\"\n",
        "]\n",
        "\n",
        "# CSV file to store results\n",
        "csv_filename = \"/content/quora_answers_haryanaandhimachalpradesh.csv\"\n",
        "\n",
        "# Open CSV file and write headers\n",
        "with open(csv_filename, \"w\", newline=\"\", encoding=\"utf-8\") as file:\n",
        "    writer = csv.writer(file)\n",
        "    writer.writerow([\"Question URL\", \"Answer\", \"Upvotes\"])  # Column headers\n",
        "\n",
        "    # Loop through each Quora URL\n",
        "    for url in quora_urls:\n",
        "        driver.get(url)\n",
        "        time.sleep(5)  # Wait for page to load\n",
        "\n",
        "        # Scroll to load more content dynamically\n",
        "        for _ in range(3):\n",
        "            driver.execute_script(\"window.scrollTo(0, document.body.scrollHeight);\")\n",
        "            time.sleep(3)\n",
        "\n",
        "        # Parse the page\n",
        "        soup = BeautifulSoup(driver.page_source, \"html.parser\")\n",
        "\n",
        "        # Extract answers\n",
        "        answers = soup.find_all(\"div\", class_=\"q-text\")  # Class may need updating\n",
        "\n",
        "        # Extract upvotes (Quora may use aria-label or other elements)\n",
        "        upvote_elements = soup.find_all(\"span\", string=re.compile(r\"upvote\", re.IGNORECASE))\n",
        "\n",
        "        upvotes = []\n",
        "        for vote in upvote_elements:\n",
        "            match = re.search(r\"(\\d+)\", vote.get_text())  # Extract numeric value\n",
        "            if match:\n",
        "                upvotes.append(int(match.group(1)))\n",
        "            else:\n",
        "                upvotes.append(0)  # If no upvote is found, default to 0\n",
        "\n",
        "        # Write answers and upvotes to CSV\n",
        "        for i, ans in enumerate(answers[:len(upvotes)]):  # Ensure index alignment\n",
        "            writer.writerow([url, ans.get_text(strip=True), upvotes[i]])\n",
        "\n",
        "print(f\"✅ Answers saved successfully in {csv_filename}!\")"
      ],
      "metadata": {
        "colab": {
          "base_uri": "https://localhost:8080/"
        },
        "id": "3Digh8C3QVs_",
        "outputId": "a767ca11-f17d-49a4-e5ad-f06a8ecaa321"
      },
      "execution_count": 31,
      "outputs": [
        {
          "output_type": "stream",
          "name": "stdout",
          "text": [
            "✅ Answers saved successfully in /content/quora_answers_haryanaandhimachalpradesh.csv!\n"
          ]
        }
      ]
    },
    {
      "cell_type": "markdown",
      "source": [
        "# **Karnataka**"
      ],
      "metadata": {
        "id": "yFyhpfbfQ_4X"
      }
    },
    {
      "cell_type": "code",
      "source": [
        "# List of Quora questions\n",
        "quora_urls = [\n",
        "\"https://www.quora.com/What-are-the-biggest-misconceptions-about-Karnataka\",\n",
        "\"https://www.quora.com/What-are-the-misconceptions-about-non-Kannada-speaking-people-in-Karnataka\",\n",
        "\"https://www.quora.com/Being-Kannadiga-what-are-the-myths-rumers-misconceptions-amongst-other-Indians-about-Kannada-Karnataka-you-would-like-to-remove-correctly\",\n",
        "\"https://www.quora.com/Why-are-Kannadigas-always-trying-to-show-that-Kannada-language-and-Karnataka-is-the-best\",\n",
        "\"https://www.quora.com/What-are-the-common-misconseptions-about-Karnataka\",\n",
        "\"https://www.quora.com/What-do-Keralites-think-about-Kannadigas\",\n",
        "\"https://www.quora.com/What-do-Malayalis-think-of-Kannadigas\",\n",
        "\"https://www.quora.com/What-are-the-biggest-misconceptions-about-Bengaluru\"\n",
        "]\n",
        "\n",
        "# CSV file to store results\n",
        "csv_filename = \"/content/quora_answers_karnataka.csv\"\n",
        "\n",
        "# Open CSV file and write headers\n",
        "with open(csv_filename, \"w\", newline=\"\", encoding=\"utf-8\") as file:\n",
        "    writer = csv.writer(file)\n",
        "    writer.writerow([\"Question URL\", \"Answer\", \"Upvotes\"])  # Column headers\n",
        "\n",
        "    # Loop through each Quora URL\n",
        "    for url in quora_urls:\n",
        "        driver.get(url)\n",
        "        time.sleep(5)  # Wait for page to load\n",
        "\n",
        "        # Scroll to load more content dynamically\n",
        "        for _ in range(3):\n",
        "            driver.execute_script(\"window.scrollTo(0, document.body.scrollHeight);\")\n",
        "            time.sleep(3)\n",
        "\n",
        "        # Parse the page\n",
        "        soup = BeautifulSoup(driver.page_source, \"html.parser\")\n",
        "\n",
        "        # Extract answers\n",
        "        answers = soup.find_all(\"div\", class_=\"q-text\")  # Class may need updating\n",
        "\n",
        "        # Extract upvotes (Quora may use aria-label or other elements)\n",
        "        upvote_elements = soup.find_all(\"span\", string=re.compile(r\"upvote\", re.IGNORECASE))\n",
        "\n",
        "        upvotes = []\n",
        "        for vote in upvote_elements:\n",
        "            match = re.search(r\"(\\d+)\", vote.get_text())  # Extract numeric value\n",
        "            if match:\n",
        "                upvotes.append(int(match.group(1)))\n",
        "            else:\n",
        "                upvotes.append(0)  # If no upvote is found, default to 0\n",
        "\n",
        "        # Write answers and upvotes to CSV\n",
        "        for i, ans in enumerate(answers[:len(upvotes)]):  # Ensure index alignment\n",
        "            writer.writerow([url, ans.get_text(strip=True), upvotes[i]])\n",
        "\n",
        "print(f\"✅ Answers saved successfully in {csv_filename}!\")"
      ],
      "metadata": {
        "colab": {
          "base_uri": "https://localhost:8080/"
        },
        "id": "KqWVTjP-RAHO",
        "outputId": "871d3357-28c5-4e19-b811-a7170c27abcd"
      },
      "execution_count": 32,
      "outputs": [
        {
          "output_type": "stream",
          "name": "stdout",
          "text": [
            "✅ Answers saved successfully in /content/quora_answers_karnataka.csv!\n"
          ]
        }
      ]
    },
    {
      "cell_type": "markdown",
      "source": [
        "# **Andhra Pradesh and Telangana**"
      ],
      "metadata": {
        "id": "dPGSO6EBReBu"
      }
    },
    {
      "cell_type": "code",
      "source": [
        "# List of Quora questions\n",
        "quora_urls = [\n",
        "\"https://www.quora.com/What-are-some-stereotypes-about-Telugu-people-in-India-and-all-over-the-world\",\n",
        "\"https://www.quora.com/What-do-the-rest-of-the-Indians-think-about-the-Telugus\",\n",
        "\"https://www.quora.com/What-do-Telangana-people-think-about-people-of-Andhra-Pradesh-and-vice-versa\",\n",
        "\"https://www.quora.com/What-are-some-common-misconceptions-about-Telugu-people-from-Andhra-Pradesh-AP-that-you-would-like-to-share-with-others-What-makes-you-proud-as-a-Telugu-person-from-AP\",\n",
        "\"https://www.quora.com/Being-Telugu-what-are-the-myths-rumers-misconceptions-amongst-other-Indians-about-Telugu-Telangana-Andhra-Pradesh-you-would-like-to-remove-correctly\",\n",
        "\"https://www.quora.com/What-are-the-misconceptions-about-Telangana\",\n",
        "\"https://www.quora.com/unanswered/What-are-some-common-misconceptions-about-Telangana\",\n",
        "\"https://www.quora.com/What-do-the-rest-of-the-Indians-think-about-the-Telugus\",\n",
        "\"https://www.quora.com/What-are-the-biggest-misconceptions-that-outsiders-have-about-Andhra\",\n",
        "\"https://www.quora.com/unanswered/What-are-some-false-assumptions-that-people-have-made-about-Telangana\",\n",
        "\"https://www.quora.com/unanswered/What-things-are-said-about-Andhra-Pradesh-that-arent-true\",\n",
        "\"https://www.quora.com/unanswered/What-are-some-misconceptions-about-Andhra-Pradesh\"\n",
        "]\n",
        "\n",
        "# CSV file to store results\n",
        "csv_filename = \"/content/quora_answers_andhrapradeshandtelanagana.csv\"\n",
        "\n",
        "# Open CSV file and write headers\n",
        "with open(csv_filename, \"w\", newline=\"\", encoding=\"utf-8\") as file:\n",
        "    writer = csv.writer(file)\n",
        "    writer.writerow([\"Question URL\", \"Answer\", \"Upvotes\"])  # Column headers\n",
        "\n",
        "    # Loop through each Quora URL\n",
        "    for url in quora_urls:\n",
        "        driver.get(url)\n",
        "        time.sleep(5)  # Wait for page to load\n",
        "\n",
        "        # Scroll to load more content dynamically\n",
        "        for _ in range(3):\n",
        "            driver.execute_script(\"window.scrollTo(0, document.body.scrollHeight);\")\n",
        "            time.sleep(3)\n",
        "\n",
        "        # Parse the page\n",
        "        soup = BeautifulSoup(driver.page_source, \"html.parser\")\n",
        "\n",
        "        # Extract answers\n",
        "        answers = soup.find_all(\"div\", class_=\"q-text\")  # Class may need updating\n",
        "\n",
        "        # Extract upvotes (Quora may use aria-label or other elements)\n",
        "        upvote_elements = soup.find_all(\"span\", string=re.compile(r\"upvote\", re.IGNORECASE))\n",
        "\n",
        "        upvotes = []\n",
        "        for vote in upvote_elements:\n",
        "            match = re.search(r\"(\\d+)\", vote.get_text())  # Extract numeric value\n",
        "            if match:\n",
        "                upvotes.append(int(match.group(1)))\n",
        "            else:\n",
        "                upvotes.append(0)  # If no upvote is found, default to 0\n",
        "\n",
        "        # Write answers and upvotes to CSV\n",
        "        for i, ans in enumerate(answers[:len(upvotes)]):  # Ensure index alignment\n",
        "            writer.writerow([url, ans.get_text(strip=True), upvotes[i]])\n",
        "\n",
        "print(f\"✅ Answers saved successfully in {csv_filename}!\")"
      ],
      "metadata": {
        "colab": {
          "base_uri": "https://localhost:8080/"
        },
        "id": "J8jNLPZbRea3",
        "outputId": "2a0d246d-37a5-43f3-a994-995e7f071f9a"
      },
      "execution_count": 33,
      "outputs": [
        {
          "output_type": "stream",
          "name": "stdout",
          "text": [
            "✅ Answers saved successfully in /content/quora_answers_andhrapradeshandtelanagana.csv!\n"
          ]
        }
      ]
    },
    {
      "cell_type": "markdown",
      "source": [
        "# **Odisha, Chhattisgarh and Jharkhand**"
      ],
      "metadata": {
        "id": "g_XYgd5uSC9C"
      }
    },
    {
      "cell_type": "code",
      "source": [
        "# List of Quora questions\n",
        "quora_urls = [\n",
        "\"https://www.quora.com/What-are-the-common-misconceptions-people-have-about-Odisha\",\n",
        "\"https://www.quora.com/What-are-your-thoughts-on-the-state-of-Odisha\",\n",
        "\"https://www.quora.com/What-do-others-think-about-Odisha\",\n",
        "\"https://www.quora.com/What-do-other-Indians-think-of-Odisha\",\n",
        "\"https://www.quora.com/Why-is-Odisha-a-backward-state\",\n",
        "\"https://www.quora.com/Being-Odiya-what-are-the-myths-rumers-misconceptions-amongst-other-Indians-about-Odissa-Orissa-Odiyan-you-would-like-to-remove-correctly\",\n",
        "\"https://www.quora.com/Why-are-people-of-Odisha-the-least-known-people-in-India\",\n",
        "\"https://www.quora.com/What-is-your-perspective-towards-people-of-Odisha\",\n",
        "\"https://www.quora.com/What-are-regional-stereotypes-about-Chhattisgarh-and-its-people\",\n",
        "\"https://www.quora.com/What-does-the-rest-of-India-think-of-Chhattisgarh\",\n",
        "\"https://www.quora.com/Why-is-Chhattisgarh-so-neglected-to-an-extent-that-many-Indians-fail-to-recognise-it-as-a-state\",\n",
        "\"https://www.quora.com/How-is-Chhattisgarh-different-from-the-rest-of-India\",\n",
        "\"https://www.quora.com/What-are-the-misconceptions-about-Chattisgarh\",\n",
        "\"https://www.quora.com/What-are-some-misconceptions-about-Chhattisgarh\",\n",
        "\"https://www.quora.com/unanswered/What-things-are-said-about-Chhattisgarh-that-arent-true\",\n",
        "\"https://www.quora.com/unanswered/Being-Jharkhandi-what-are-the-myths-rumers-misconceptions-amongst-other-Indians-about-Jharkhandi-you-would-like-to-remove-correctly?q=misconceptions%20about%20jhar\",\n",
        "\"https://www.quora.com/What-are-some-misconceptions-about-Jharkhand\"\n",
        "]\n",
        "\n",
        "# CSV file to store results\n",
        "csv_filename = \"/content/quora_answers_odishachattisgarhandjharkhand.csv\"\n",
        "\n",
        "# Open CSV file and write headers\n",
        "with open(csv_filename, \"w\", newline=\"\", encoding=\"utf-8\") as file:\n",
        "    writer = csv.writer(file)\n",
        "    writer.writerow([\"Question URL\", \"Answer\", \"Upvotes\"])  # Column headers\n",
        "\n",
        "    # Loop through each Quora URL\n",
        "    for url in quora_urls:\n",
        "        driver.get(url)\n",
        "        time.sleep(5)  # Wait for page to load\n",
        "\n",
        "        # Scroll to load more content dynamically\n",
        "        for _ in range(3):\n",
        "            driver.execute_script(\"window.scrollTo(0, document.body.scrollHeight);\")\n",
        "            time.sleep(3)\n",
        "\n",
        "        # Parse the page\n",
        "        soup = BeautifulSoup(driver.page_source, \"html.parser\")\n",
        "\n",
        "        # Extract answers\n",
        "        answers = soup.find_all(\"div\", class_=\"q-text\")  # Class may need updating\n",
        "\n",
        "        # Extract upvotes (Quora may use aria-label or other elements)\n",
        "        upvote_elements = soup.find_all(\"span\", string=re.compile(r\"upvote\", re.IGNORECASE))\n",
        "\n",
        "        upvotes = []\n",
        "        for vote in upvote_elements:\n",
        "            match = re.search(r\"(\\d+)\", vote.get_text())  # Extract numeric value\n",
        "            if match:\n",
        "                upvotes.append(int(match.group(1)))\n",
        "            else:\n",
        "                upvotes.append(0)  # If no upvote is found, default to 0\n",
        "\n",
        "        # Write answers and upvotes to CSV\n",
        "        for i, ans in enumerate(answers[:len(upvotes)]):  # Ensure index alignment\n",
        "            writer.writerow([url, ans.get_text(strip=True), upvotes[i]])\n",
        "\n",
        "print(f\"✅ Answers saved successfully in {csv_filename}!\")"
      ],
      "metadata": {
        "colab": {
          "base_uri": "https://localhost:8080/"
        },
        "id": "XJ5uS8BJSDQV",
        "outputId": "8f1e001f-f775-41d1-fe07-72874e12b289"
      },
      "execution_count": 34,
      "outputs": [
        {
          "output_type": "stream",
          "name": "stdout",
          "text": [
            "✅ Answers saved successfully in /content/quora_answers_odishachattisgarhandjharkhand.csv!\n"
          ]
        }
      ]
    }
  ]
}